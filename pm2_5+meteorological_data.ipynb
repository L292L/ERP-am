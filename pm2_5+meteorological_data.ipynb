{
  "nbformat": 4,
  "nbformat_minor": 0,
  "metadata": {
    "colab": {
      "provenance": []
    },
    "kernelspec": {
      "name": "python3",
      "display_name": "Python 3"
    },
    "language_info": {
      "name": "python"
    }
  },
  "cells": [
    {
      "cell_type": "code",
      "source": [
        "pip install windrose"
      ],
      "metadata": {
        "id": "72bPde0zokF7"
      },
      "execution_count": null,
      "outputs": []
    },
    {
      "cell_type": "code",
      "source": [
        "pip install python-ternary"
      ],
      "metadata": {
        "id": "ftkfpvwDosA0"
      },
      "execution_count": null,
      "outputs": []
    },
    {
      "cell_type": "code",
      "source": [
        "!pip install tensorflow keras scikeras"
      ],
      "metadata": {
        "id": "btdKhg9Aotv9"
      },
      "execution_count": null,
      "outputs": []
    },
    {
      "cell_type": "code",
      "source": [
        "!pip install prophet"
      ],
      "metadata": {
        "id": "4BbyPyCIKBFL"
      },
      "execution_count": null,
      "outputs": []
    },
    {
      "cell_type": "code",
      "execution_count": null,
      "metadata": {
        "id": "sNRo4rt8oL0B"
      },
      "outputs": [],
      "source": [
        "import pandas as pd\n",
        "import numpy as np\n",
        "import seaborn as sns\n",
        "import matplotlib.pyplot as plt\n",
        "from sklearn.linear_model import LinearRegression\n",
        "from sklearn.experimental import enable_iterative_imputer\n",
        "from sklearn.impute import IterativeImputer\n",
        "from matplotlib.dates import DateFormatter\n",
        "from windrose import WindroseAxes\n",
        "from statsmodels.graphics.tsaplots import plot_acf\n",
        "from statsmodels.tsa.stattools import acf\n",
        "from sklearn.decomposition import PCA\n",
        "from sklearn.preprocessing import StandardScaler, MinMaxScaler\n",
        "from mpl_toolkits.mplot3d import Axes3D\n",
        "import ternary\n",
        "from scipy.stats import gaussian_kde\n",
        "from statsmodels.graphics.tsaplots import plot_acf, plot_pacf\n",
        "from sklearn.preprocessing import LabelEncoder\n",
        "from prophet import Prophet"
      ]
    },
    {
      "cell_type": "code",
      "source": [
        "from google.colab import drive\n",
        "drive.mount('/content/drive')"
      ],
      "metadata": {
        "colab": {
          "base_uri": "https://localhost:8080/"
        },
        "id": "59H_Wo_BJC0E",
        "outputId": "33151cfc-9552-4b29-e58b-dc4eebfff398"
      },
      "execution_count": null,
      "outputs": [
        {
          "output_type": "stream",
          "name": "stdout",
          "text": [
            "Mounted at /content/drive\n"
          ]
        }
      ]
    },
    {
      "cell_type": "code",
      "source": [
        "file_path = '/content/drive/My Drive/Colab Notebooks/London2_21_23.csv'\n",
        "\n",
        "df_pm = pd.read_csv(file_path)\n",
        "\n",
        "df_pm = df_pm.drop(columns=['v10', 'v2.5', 'nv10', 'nv2.5', 'source', 'co',\t'nox', 'no2',\t'no',\t'o3',\t'so2', 'pm10'])\n"
      ],
      "metadata": {
        "id": "ukOle3X5pLXa"
      },
      "execution_count": null,
      "outputs": []
    },
    {
      "cell_type": "code",
      "source": [
        "df_pm['date'] = pd.to_datetime(df_pm['date']).dt.tz_localize(None)\n",
        "df_pm.head()"
      ],
      "metadata": {
        "colab": {
          "base_uri": "https://localhost:8080/",
          "height": 206
        },
        "id": "ig6BIZYCIBHZ",
        "outputId": "3d9400c1-3ea9-4047-a643-52f59c1587dc"
      },
      "execution_count": null,
      "outputs": [
        {
          "output_type": "execute_result",
          "data": {
            "text/plain": [
              "                   site code                date   pm2.5   ws     wd  air_temp\n",
              "0  London N. Kensington  KC1 2021-01-01 00:00:00  30.448  1.5  314.9      -2.1\n",
              "1  London N. Kensington  KC1 2021-01-01 01:00:00  55.802  2.1  318.7      -2.9\n",
              "2  London N. Kensington  KC1 2021-01-01 02:00:00  28.278  1.9  310.8      -3.6\n",
              "3  London N. Kensington  KC1 2021-01-01 03:00:00  15.613  2.0  309.3      -4.0\n",
              "4  London N. Kensington  KC1 2021-01-01 04:00:00  19.764  2.0  300.4      -4.5"
            ],
            "text/html": [
              "\n",
              "  <div id=\"df-ef7f275c-c763-451b-8a17-41cdc9d80748\" class=\"colab-df-container\">\n",
              "    <div>\n",
              "<style scoped>\n",
              "    .dataframe tbody tr th:only-of-type {\n",
              "        vertical-align: middle;\n",
              "    }\n",
              "\n",
              "    .dataframe tbody tr th {\n",
              "        vertical-align: top;\n",
              "    }\n",
              "\n",
              "    .dataframe thead th {\n",
              "        text-align: right;\n",
              "    }\n",
              "</style>\n",
              "<table border=\"1\" class=\"dataframe\">\n",
              "  <thead>\n",
              "    <tr style=\"text-align: right;\">\n",
              "      <th></th>\n",
              "      <th>site</th>\n",
              "      <th>code</th>\n",
              "      <th>date</th>\n",
              "      <th>pm2.5</th>\n",
              "      <th>ws</th>\n",
              "      <th>wd</th>\n",
              "      <th>air_temp</th>\n",
              "    </tr>\n",
              "  </thead>\n",
              "  <tbody>\n",
              "    <tr>\n",
              "      <th>0</th>\n",
              "      <td>London N. Kensington</td>\n",
              "      <td>KC1</td>\n",
              "      <td>2021-01-01 00:00:00</td>\n",
              "      <td>30.448</td>\n",
              "      <td>1.5</td>\n",
              "      <td>314.9</td>\n",
              "      <td>-2.1</td>\n",
              "    </tr>\n",
              "    <tr>\n",
              "      <th>1</th>\n",
              "      <td>London N. Kensington</td>\n",
              "      <td>KC1</td>\n",
              "      <td>2021-01-01 01:00:00</td>\n",
              "      <td>55.802</td>\n",
              "      <td>2.1</td>\n",
              "      <td>318.7</td>\n",
              "      <td>-2.9</td>\n",
              "    </tr>\n",
              "    <tr>\n",
              "      <th>2</th>\n",
              "      <td>London N. Kensington</td>\n",
              "      <td>KC1</td>\n",
              "      <td>2021-01-01 02:00:00</td>\n",
              "      <td>28.278</td>\n",
              "      <td>1.9</td>\n",
              "      <td>310.8</td>\n",
              "      <td>-3.6</td>\n",
              "    </tr>\n",
              "    <tr>\n",
              "      <th>3</th>\n",
              "      <td>London N. Kensington</td>\n",
              "      <td>KC1</td>\n",
              "      <td>2021-01-01 03:00:00</td>\n",
              "      <td>15.613</td>\n",
              "      <td>2.0</td>\n",
              "      <td>309.3</td>\n",
              "      <td>-4.0</td>\n",
              "    </tr>\n",
              "    <tr>\n",
              "      <th>4</th>\n",
              "      <td>London N. Kensington</td>\n",
              "      <td>KC1</td>\n",
              "      <td>2021-01-01 04:00:00</td>\n",
              "      <td>19.764</td>\n",
              "      <td>2.0</td>\n",
              "      <td>300.4</td>\n",
              "      <td>-4.5</td>\n",
              "    </tr>\n",
              "  </tbody>\n",
              "</table>\n",
              "</div>\n",
              "    <div class=\"colab-df-buttons\">\n",
              "\n",
              "  <div class=\"colab-df-container\">\n",
              "    <button class=\"colab-df-convert\" onclick=\"convertToInteractive('df-ef7f275c-c763-451b-8a17-41cdc9d80748')\"\n",
              "            title=\"Convert this dataframe to an interactive table.\"\n",
              "            style=\"display:none;\">\n",
              "\n",
              "  <svg xmlns=\"http://www.w3.org/2000/svg\" height=\"24px\" viewBox=\"0 -960 960 960\">\n",
              "    <path d=\"M120-120v-720h720v720H120Zm60-500h600v-160H180v160Zm220 220h160v-160H400v160Zm0 220h160v-160H400v160ZM180-400h160v-160H180v160Zm440 0h160v-160H620v160ZM180-180h160v-160H180v160Zm440 0h160v-160H620v160Z\"/>\n",
              "  </svg>\n",
              "    </button>\n",
              "\n",
              "  <style>\n",
              "    .colab-df-container {\n",
              "      display:flex;\n",
              "      gap: 12px;\n",
              "    }\n",
              "\n",
              "    .colab-df-convert {\n",
              "      background-color: #E8F0FE;\n",
              "      border: none;\n",
              "      border-radius: 50%;\n",
              "      cursor: pointer;\n",
              "      display: none;\n",
              "      fill: #1967D2;\n",
              "      height: 32px;\n",
              "      padding: 0 0 0 0;\n",
              "      width: 32px;\n",
              "    }\n",
              "\n",
              "    .colab-df-convert:hover {\n",
              "      background-color: #E2EBFA;\n",
              "      box-shadow: 0px 1px 2px rgba(60, 64, 67, 0.3), 0px 1px 3px 1px rgba(60, 64, 67, 0.15);\n",
              "      fill: #174EA6;\n",
              "    }\n",
              "\n",
              "    .colab-df-buttons div {\n",
              "      margin-bottom: 4px;\n",
              "    }\n",
              "\n",
              "    [theme=dark] .colab-df-convert {\n",
              "      background-color: #3B4455;\n",
              "      fill: #D2E3FC;\n",
              "    }\n",
              "\n",
              "    [theme=dark] .colab-df-convert:hover {\n",
              "      background-color: #434B5C;\n",
              "      box-shadow: 0px 1px 3px 1px rgba(0, 0, 0, 0.15);\n",
              "      filter: drop-shadow(0px 1px 2px rgba(0, 0, 0, 0.3));\n",
              "      fill: #FFFFFF;\n",
              "    }\n",
              "  </style>\n",
              "\n",
              "    <script>\n",
              "      const buttonEl =\n",
              "        document.querySelector('#df-ef7f275c-c763-451b-8a17-41cdc9d80748 button.colab-df-convert');\n",
              "      buttonEl.style.display =\n",
              "        google.colab.kernel.accessAllowed ? 'block' : 'none';\n",
              "\n",
              "      async function convertToInteractive(key) {\n",
              "        const element = document.querySelector('#df-ef7f275c-c763-451b-8a17-41cdc9d80748');\n",
              "        const dataTable =\n",
              "          await google.colab.kernel.invokeFunction('convertToInteractive',\n",
              "                                                    [key], {});\n",
              "        if (!dataTable) return;\n",
              "\n",
              "        const docLinkHtml = 'Like what you see? Visit the ' +\n",
              "          '<a target=\"_blank\" href=https://colab.research.google.com/notebooks/data_table.ipynb>data table notebook</a>'\n",
              "          + ' to learn more about interactive tables.';\n",
              "        element.innerHTML = '';\n",
              "        dataTable['output_type'] = 'display_data';\n",
              "        await google.colab.output.renderOutput(dataTable, element);\n",
              "        const docLink = document.createElement('div');\n",
              "        docLink.innerHTML = docLinkHtml;\n",
              "        element.appendChild(docLink);\n",
              "      }\n",
              "    </script>\n",
              "  </div>\n",
              "\n",
              "\n",
              "<div id=\"df-a2b97185-c114-4dfe-8403-f3ba3e0e132a\">\n",
              "  <button class=\"colab-df-quickchart\" onclick=\"quickchart('df-a2b97185-c114-4dfe-8403-f3ba3e0e132a')\"\n",
              "            title=\"Suggest charts\"\n",
              "            style=\"display:none;\">\n",
              "\n",
              "<svg xmlns=\"http://www.w3.org/2000/svg\" height=\"24px\"viewBox=\"0 0 24 24\"\n",
              "     width=\"24px\">\n",
              "    <g>\n",
              "        <path d=\"M19 3H5c-1.1 0-2 .9-2 2v14c0 1.1.9 2 2 2h14c1.1 0 2-.9 2-2V5c0-1.1-.9-2-2-2zM9 17H7v-7h2v7zm4 0h-2V7h2v10zm4 0h-2v-4h2v4z\"/>\n",
              "    </g>\n",
              "</svg>\n",
              "  </button>\n",
              "\n",
              "<style>\n",
              "  .colab-df-quickchart {\n",
              "      --bg-color: #E8F0FE;\n",
              "      --fill-color: #1967D2;\n",
              "      --hover-bg-color: #E2EBFA;\n",
              "      --hover-fill-color: #174EA6;\n",
              "      --disabled-fill-color: #AAA;\n",
              "      --disabled-bg-color: #DDD;\n",
              "  }\n",
              "\n",
              "  [theme=dark] .colab-df-quickchart {\n",
              "      --bg-color: #3B4455;\n",
              "      --fill-color: #D2E3FC;\n",
              "      --hover-bg-color: #434B5C;\n",
              "      --hover-fill-color: #FFFFFF;\n",
              "      --disabled-bg-color: #3B4455;\n",
              "      --disabled-fill-color: #666;\n",
              "  }\n",
              "\n",
              "  .colab-df-quickchart {\n",
              "    background-color: var(--bg-color);\n",
              "    border: none;\n",
              "    border-radius: 50%;\n",
              "    cursor: pointer;\n",
              "    display: none;\n",
              "    fill: var(--fill-color);\n",
              "    height: 32px;\n",
              "    padding: 0;\n",
              "    width: 32px;\n",
              "  }\n",
              "\n",
              "  .colab-df-quickchart:hover {\n",
              "    background-color: var(--hover-bg-color);\n",
              "    box-shadow: 0 1px 2px rgba(60, 64, 67, 0.3), 0 1px 3px 1px rgba(60, 64, 67, 0.15);\n",
              "    fill: var(--button-hover-fill-color);\n",
              "  }\n",
              "\n",
              "  .colab-df-quickchart-complete:disabled,\n",
              "  .colab-df-quickchart-complete:disabled:hover {\n",
              "    background-color: var(--disabled-bg-color);\n",
              "    fill: var(--disabled-fill-color);\n",
              "    box-shadow: none;\n",
              "  }\n",
              "\n",
              "  .colab-df-spinner {\n",
              "    border: 2px solid var(--fill-color);\n",
              "    border-color: transparent;\n",
              "    border-bottom-color: var(--fill-color);\n",
              "    animation:\n",
              "      spin 1s steps(1) infinite;\n",
              "  }\n",
              "\n",
              "  @keyframes spin {\n",
              "    0% {\n",
              "      border-color: transparent;\n",
              "      border-bottom-color: var(--fill-color);\n",
              "      border-left-color: var(--fill-color);\n",
              "    }\n",
              "    20% {\n",
              "      border-color: transparent;\n",
              "      border-left-color: var(--fill-color);\n",
              "      border-top-color: var(--fill-color);\n",
              "    }\n",
              "    30% {\n",
              "      border-color: transparent;\n",
              "      border-left-color: var(--fill-color);\n",
              "      border-top-color: var(--fill-color);\n",
              "      border-right-color: var(--fill-color);\n",
              "    }\n",
              "    40% {\n",
              "      border-color: transparent;\n",
              "      border-right-color: var(--fill-color);\n",
              "      border-top-color: var(--fill-color);\n",
              "    }\n",
              "    60% {\n",
              "      border-color: transparent;\n",
              "      border-right-color: var(--fill-color);\n",
              "    }\n",
              "    80% {\n",
              "      border-color: transparent;\n",
              "      border-right-color: var(--fill-color);\n",
              "      border-bottom-color: var(--fill-color);\n",
              "    }\n",
              "    90% {\n",
              "      border-color: transparent;\n",
              "      border-bottom-color: var(--fill-color);\n",
              "    }\n",
              "  }\n",
              "</style>\n",
              "\n",
              "  <script>\n",
              "    async function quickchart(key) {\n",
              "      const quickchartButtonEl =\n",
              "        document.querySelector('#' + key + ' button');\n",
              "      quickchartButtonEl.disabled = true;  // To prevent multiple clicks.\n",
              "      quickchartButtonEl.classList.add('colab-df-spinner');\n",
              "      try {\n",
              "        const charts = await google.colab.kernel.invokeFunction(\n",
              "            'suggestCharts', [key], {});\n",
              "      } catch (error) {\n",
              "        console.error('Error during call to suggestCharts:', error);\n",
              "      }\n",
              "      quickchartButtonEl.classList.remove('colab-df-spinner');\n",
              "      quickchartButtonEl.classList.add('colab-df-quickchart-complete');\n",
              "    }\n",
              "    (() => {\n",
              "      let quickchartButtonEl =\n",
              "        document.querySelector('#df-a2b97185-c114-4dfe-8403-f3ba3e0e132a button');\n",
              "      quickchartButtonEl.style.display =\n",
              "        google.colab.kernel.accessAllowed ? 'block' : 'none';\n",
              "    })();\n",
              "  </script>\n",
              "</div>\n",
              "\n",
              "    </div>\n",
              "  </div>\n"
            ],
            "application/vnd.google.colaboratory.intrinsic+json": {
              "type": "dataframe",
              "variable_name": "df_pm",
              "summary": "{\n  \"name\": \"df_pm\",\n  \"rows\": 52560,\n  \"fields\": [\n    {\n      \"column\": \"site\",\n      \"properties\": {\n        \"dtype\": \"category\",\n        \"num_unique_values\": 2,\n        \"samples\": [\n          \"London Marylebone Road\",\n          \"London N. Kensington\"\n        ],\n        \"semantic_type\": \"\",\n        \"description\": \"\"\n      }\n    },\n    {\n      \"column\": \"code\",\n      \"properties\": {\n        \"dtype\": \"category\",\n        \"num_unique_values\": 2,\n        \"samples\": [\n          \"MY1\",\n          \"KC1\"\n        ],\n        \"semantic_type\": \"\",\n        \"description\": \"\"\n      }\n    },\n    {\n      \"column\": \"date\",\n      \"properties\": {\n        \"dtype\": \"date\",\n        \"min\": \"2021-01-01 00:00:00\",\n        \"max\": \"2023-12-31 23:00:00\",\n        \"num_unique_values\": 26280,\n        \"samples\": [\n          \"2023-04-16 01:00:00\",\n          \"2021-09-20 01:00:00\"\n        ],\n        \"semantic_type\": \"\",\n        \"description\": \"\"\n      }\n    },\n    {\n      \"column\": \"pm2.5\",\n      \"properties\": {\n        \"dtype\": \"number\",\n        \"std\": 7.608271406080731,\n        \"min\": -3.1,\n        \"max\": 98.019,\n        \"num_unique_values\": 1791,\n        \"samples\": [\n          36.887,\n          19.835\n        ],\n        \"semantic_type\": \"\",\n        \"description\": \"\"\n      }\n    },\n    {\n      \"column\": \"ws\",\n      \"properties\": {\n        \"dtype\": \"number\",\n        \"std\": 1.6093709613942473,\n        \"min\": 0.0,\n        \"max\": 13.7,\n        \"num_unique_values\": 121,\n        \"samples\": [\n          5.2,\n          0.6\n        ],\n        \"semantic_type\": \"\",\n        \"description\": \"\"\n      }\n    },\n    {\n      \"column\": \"wd\",\n      \"properties\": {\n        \"dtype\": \"number\",\n        \"std\": 100.13947545765369,\n        \"min\": 0.0,\n        \"max\": 360.0,\n        \"num_unique_values\": 3566,\n        \"samples\": [\n          155.8,\n          178.4\n        ],\n        \"semantic_type\": \"\",\n        \"description\": \"\"\n      }\n    },\n    {\n      \"column\": \"air_temp\",\n      \"properties\": {\n        \"dtype\": \"number\",\n        \"std\": 6.249300682400366,\n        \"min\": -6.2,\n        \"max\": 31.9,\n        \"num_unique_values\": 369,\n        \"samples\": [\n          26.5,\n          -2.6\n        ],\n        \"semantic_type\": \"\",\n        \"description\": \"\"\n      }\n    }\n  ]\n}"
            }
          },
          "metadata": {},
          "execution_count": 8
        }
      ]
    },
    {
      "cell_type": "markdown",
      "source": [
        "# Missing Values"
      ],
      "metadata": {
        "id": "DvdSAQXqqB6T"
      }
    },
    {
      "cell_type": "code",
      "source": [
        "missing_values = df_pm.isnull().sum()\n",
        "missing_values"
      ],
      "metadata": {
        "colab": {
          "base_uri": "https://localhost:8080/",
          "height": 303
        },
        "id": "t3aCyQBWqDtA",
        "outputId": "f08104a9-b16c-4c35-9413-252b9235cdcf"
      },
      "execution_count": null,
      "outputs": [
        {
          "output_type": "execute_result",
          "data": {
            "text/plain": [
              "site           0\n",
              "code           0\n",
              "date           0\n",
              "pm2.5       3256\n",
              "ws          1008\n",
              "wd          1008\n",
              "air_temp    1008\n",
              "dtype: int64"
            ],
            "text/html": [
              "<div>\n",
              "<style scoped>\n",
              "    .dataframe tbody tr th:only-of-type {\n",
              "        vertical-align: middle;\n",
              "    }\n",
              "\n",
              "    .dataframe tbody tr th {\n",
              "        vertical-align: top;\n",
              "    }\n",
              "\n",
              "    .dataframe thead th {\n",
              "        text-align: right;\n",
              "    }\n",
              "</style>\n",
              "<table border=\"1\" class=\"dataframe\">\n",
              "  <thead>\n",
              "    <tr style=\"text-align: right;\">\n",
              "      <th></th>\n",
              "      <th>0</th>\n",
              "    </tr>\n",
              "  </thead>\n",
              "  <tbody>\n",
              "    <tr>\n",
              "      <th>site</th>\n",
              "      <td>0</td>\n",
              "    </tr>\n",
              "    <tr>\n",
              "      <th>code</th>\n",
              "      <td>0</td>\n",
              "    </tr>\n",
              "    <tr>\n",
              "      <th>date</th>\n",
              "      <td>0</td>\n",
              "    </tr>\n",
              "    <tr>\n",
              "      <th>pm2.5</th>\n",
              "      <td>3256</td>\n",
              "    </tr>\n",
              "    <tr>\n",
              "      <th>ws</th>\n",
              "      <td>1008</td>\n",
              "    </tr>\n",
              "    <tr>\n",
              "      <th>wd</th>\n",
              "      <td>1008</td>\n",
              "    </tr>\n",
              "    <tr>\n",
              "      <th>air_temp</th>\n",
              "      <td>1008</td>\n",
              "    </tr>\n",
              "  </tbody>\n",
              "</table>\n",
              "</div><br><label><b>dtype:</b> int64</label>"
            ]
          },
          "metadata": {},
          "execution_count": 9
        }
      ]
    },
    {
      "cell_type": "code",
      "source": [
        "total_rows = df_pm.shape[0]\n",
        "missing_rate = missing_values / total_rows * 100\n",
        "\n",
        "missing_rate = missing_rate.drop(['site', 'code', 'date'])\n",
        "missing_rate = missing_rate.sort_values(ascending=False)\n",
        "\n",
        "plt.figure(figsize=(10, 6))\n",
        "bars = missing_rate.plot(kind='bar', color='skyblue')\n",
        "plt.title('Missing Rate for Each Feature')\n",
        "plt.xlabel('Features')\n",
        "plt.ylabel('Missing Rate (%)')\n",
        "plt.xticks(rotation=45)\n",
        "plt.grid(axis='y', linestyle='--', alpha=0.7)\n",
        "\n",
        "# Annotate bars with the missing rate percentage\n",
        "for bar in bars.patches:\n",
        "    height = bar.get_height()\n",
        "    if height > 0:\n",
        "        plt.annotate(f'{height:.1f}%',\n",
        "                     (bar.get_x() + bar.get_width() / 2, height),\n",
        "                     ha='center', va='bottom')\n",
        "\n",
        "plt.show()"
      ],
      "metadata": {
        "colab": {
          "base_uri": "https://localhost:8080/",
          "height": 604
        },
        "id": "YlI8X9b6H3p5",
        "outputId": "be08a2cb-5d24-423f-ed3f-6e9d19e4dbcf"
      },
      "execution_count": null,
      "outputs": [
        {
          "output_type": "display_data",
          "data": {
            "text/plain": [
              "<Figure size 1000x600 with 1 Axes>"
            ],
            "image/png": "[encoded data removed]"
          },
          "metadata": {}
        }
      ]
    },
    {
      "cell_type": "markdown",
      "source": [
        "## Data less than and equal to 0 in the pollutant concentration characteristics are replaced with the smallest positive number."
      ],
      "metadata": {
        "id": "QLksUeSN8j-Z"
      }
    },
    {
      "cell_type": "code",
      "source": [
        "# Function to replace non-positive values in 'pm2.5' column\n",
        "def replace_non_positive(df):\n",
        "    # Get the minimum positive value in the 'pm2.5' column\n",
        "    min_positive = df[df['pm2.5'] > 0]['pm2.5'].min()\n",
        "    # Replace values less than or equal to 0 with the minimum positive value\n",
        "    df['pm2.5'] = df['pm2.5'].apply(lambda x: min_positive if x <= 0 else x)\n",
        "\n",
        "# Apply the function to df_pm_nomissing\n",
        "replace_non_positive(df_pm)"
      ],
      "metadata": {
        "id": "C1WQ_LpX8lg2"
      },
      "execution_count": null,
      "outputs": []
    },
    {
      "cell_type": "markdown",
      "source": [
        "## gap <= 8 Linear Imputation"
      ],
      "metadata": {
        "id": "iXsVqISW8RLW"
      }
    },
    {
      "cell_type": "code",
      "source": [
        "df_pm_gap = df_pm.copy()\n",
        "\n",
        "variables = ['pm2.5', 'ws', 'wd', 'air_temp']\n",
        "pollutant_columns = ['pm2.5']  # Only these columns need to be > 0\n",
        "\n",
        "# Function to perform linear interpolation for gaps <= 8 and ensure values > min positive value for pollutant columns\n",
        "def linear_interpolation(df, variable, max_gap):\n",
        "    df[variable] = df[variable].interpolate(method='linear', limit=max_gap)\n",
        "    if variable in pollutant_columns:\n",
        "        min_positive = df[df[variable] > 0][variable].min()  # Get the minimum positive value in the column\n",
        "        df[variable] = df[variable].apply(lambda x: min_positive if x <= 0 else x)\n",
        "    return df\n",
        "\n",
        "# Perform linear interpolation for gaps <= 8 for each variable\n",
        "for variable in variables:\n",
        "    df_pm_gap = linear_interpolation(df_pm_gap, variable, 8)"
      ],
      "metadata": {
        "id": "jtSeszk28Ug5"
      },
      "execution_count": null,
      "outputs": []
    },
    {
      "cell_type": "code",
      "source": [
        "missing_values = df_pm_gap.isnull().sum()\n",
        "missing_values"
      ],
      "metadata": {
        "colab": {
          "base_uri": "https://localhost:8080/"
        },
        "id": "ybJc4vlQ9FZm",
        "outputId": "bb4c8895-dc3b-49fb-8a41-3507d3920b9f"
      },
      "execution_count": null,
      "outputs": [
        {
          "output_type": "execute_result",
          "data": {
            "text/plain": [
              "site           0\n",
              "code           0\n",
              "date           0\n",
              "pm2.5       2857\n",
              "ws           784\n",
              "wd           784\n",
              "air_temp     784\n",
              "dtype: int64"
            ]
          },
          "metadata": {},
          "execution_count": 11
        }
      ]
    },
    {
      "cell_type": "markdown",
      "source": [
        "## gap>8\n",
        "## meterological data：multiple regression imputation\n",
        "## pm2.5：Prohet"
      ],
      "metadata": {
        "id": "y9kXbve5Ggvx"
      }
    },
    {
      "cell_type": "code",
      "source": [
        "# Variables to be imputed\n",
        "features = ['ws', 'wd', 'air_temp']\n",
        "\n",
        "# Initialize iterative imputer\n",
        "imputer = IterativeImputer(random_state=42)\n",
        "\n",
        "# Create a copy of the original dataframe for imputation\n",
        "df_pm_nomissing = df_pm_gap.copy()\n",
        "\n",
        "# Perform imputation on the specified columns\n",
        "df_pm_nomissing[variables] = imputer.fit_transform(df_pm_nomissing[variables])"
      ],
      "metadata": {
        "id": "NhvmNu_NHvQx"
      },
      "execution_count": null,
      "outputs": []
    },
    {
      "cell_type": "markdown",
      "source": [
        "## The Prohet time series imputation technique was used for pm2.5, and meteorological data was added into the model as exogenous regression variables to improve the accuracy of inputation"
      ],
      "metadata": {
        "id": "cTnpD1kyMhfS"
      }
    },
    {
      "cell_type": "code",
      "source": [
        "# Rename the columns as required by Prophet: 'date' to 'ds' and 'pm2.5' to 'y'\n",
        "df_prophet = df_pm_nomissing[['date', 'pm2.5', 'ws', 'wd', 'air_temp']].rename(columns={'date': 'ds', 'pm2.5': 'y'})\n",
        "\n",
        "# Initialize the Prophet model\n",
        "model = Prophet()\n",
        "\n",
        "# Add external regressors\n",
        "model.add_regressor('ws')\n",
        "model.add_regressor('wd')\n",
        "model.add_regressor('air_temp')\n",
        "\n",
        "# Fit the model on the data\n",
        "model.fit(df_prophet)\n",
        "\n",
        "# Create a dataframe for future predictions\n",
        "# Here, we create predictions for the same length as the original data\n",
        "future = model.make_future_dataframe(periods=0, freq='H')\n",
        "\n",
        "# Add external regressors to the future dataframe\n",
        "future['ws'] = df_pm_nomissing['ws']\n",
        "future['wd'] = df_pm_nomissing['wd']\n",
        "future['air_temp'] = df_pm_nomissing['air_temp']\n",
        "\n",
        "# Make predictions\n",
        "forecast = model.predict(future)\n",
        "\n",
        "# Combine the original data with the forecasted values\n",
        "# Use 'combine_first' to fill in the missing values in 'y' with 'yhat' from the forecast\n",
        "df_prophet['y'] = df_prophet['y'].combine_first(forecast['yhat'])\n",
        "\n",
        "# Rename the columns back to the original names\n",
        "df_pm2_5 = df_prophet.rename(columns={'ds': 'date', 'y': 'pm2.5'})"
      ],
      "metadata": {
        "colab": {
          "base_uri": "https://localhost:8080/"
        },
        "id": "MrqzGd1fsuFb",
        "outputId": "fd9fe4fd-2fa6-4516-b72d-9f400dbd64ea"
      },
      "execution_count": null,
      "outputs": [
        {
          "output_type": "stream",
          "name": "stderr",
          "text": [
            "DEBUG:cmdstanpy:input tempfile: /tmp/tmpkxvkmx2q/byxqjppn.json\n",
            "DEBUG:cmdstanpy:input tempfile: /tmp/tmpkxvkmx2q/y48m4c2j.json\n",
            "DEBUG:cmdstanpy:idx 0\n",
            "DEBUG:cmdstanpy:running CmdStan, num_threads: None\n",
            "DEBUG:cmdstanpy:CmdStan args: ['/usr/local/lib/python3.10/dist-packages/prophet/stan_model/prophet_model.bin', 'random', 'seed=27426', 'data', 'file=/tmp/tmpkxvkmx2q/byxqjppn.json', 'init=/tmp/tmpkxvkmx2q/y48m4c2j.json', 'output', 'file=/tmp/tmpkxvkmx2q/prophet_model4wgk96yv/prophet_model-20240729221015.csv', 'method=optimize', 'algorithm=lbfgs', 'iter=10000']\n",
            "22:10:15 - cmdstanpy - INFO - Chain [1] start processing\n",
            "INFO:cmdstanpy:Chain [1] start processing\n",
            "22:11:25 - cmdstanpy - INFO - Chain [1] done processing\n",
            "INFO:cmdstanpy:Chain [1] done processing\n"
          ]
        }
      ]
    },
    {
      "cell_type": "code",
      "source": [
        "file_path = '/content/drive/My Drive/Colab Notebooks/London2_21_23.csv'\n",
        "\n",
        "df_pm = pd.read_csv(file_path)\n",
        "\n",
        "df_pm = df_pm.drop(columns=['v10', 'v2.5', 'nv10', 'nv2.5', 'source', 'co',\t'nox', 'no2',\t'no',\t'o3',\t'so2', 'pm10'])"
      ],
      "metadata": {
        "id": "-fLmjWP1tmkn"
      },
      "execution_count": null,
      "outputs": []
    },
    {
      "cell_type": "code",
      "source": [
        "df_pm2_5['site'] = df_pm['site']\n",
        "df_pm2_5['code'] = df_pm['code']"
      ],
      "metadata": {
        "id": "8tldqTc7vV_k"
      },
      "execution_count": null,
      "outputs": []
    },
    {
      "cell_type": "code",
      "source": [
        "df_pm2_5.head(-10)"
      ],
      "metadata": {
        "colab": {
          "base_uri": "https://localhost:8080/",
          "height": 424
        },
        "id": "3zBxiIi_vXeI",
        "outputId": "5b0641c0-3cb7-483a-e30c-b85e93882906"
      },
      "execution_count": null,
      "outputs": [
        {
          "output_type": "execute_result",
          "data": {
            "text/plain": [
              "                     date   pm2.5   ws     wd  air_temp  \\\n",
              "0     2021-01-01 00:00:00  30.448  1.5  314.9      -2.1   \n",
              "1     2021-01-01 01:00:00  55.802  2.1  318.7      -2.9   \n",
              "2     2021-01-01 02:00:00  28.278  1.9  310.8      -3.6   \n",
              "3     2021-01-01 03:00:00  15.613  2.0  309.3      -4.0   \n",
              "4     2021-01-01 04:00:00  19.764  2.0  300.4      -4.5   \n",
              "...                   ...     ...  ...    ...       ...   \n",
              "52545 2023-12-31 09:00:00   4.000  6.0  218.1       8.2   \n",
              "52546 2023-12-31 10:00:00   6.000  6.4  223.6       8.4   \n",
              "52547 2023-12-31 11:00:00   6.000  6.2  232.5       9.1   \n",
              "52548 2023-12-31 12:00:00   4.000  6.1  235.9       9.3   \n",
              "52549 2023-12-31 13:00:00  13.000  6.1  248.2       8.5   \n",
              "\n",
              "                         site code  \n",
              "0        London N. Kensington  KC1  \n",
              "1        London N. Kensington  KC1  \n",
              "2        London N. Kensington  KC1  \n",
              "3        London N. Kensington  KC1  \n",
              "4        London N. Kensington  KC1  \n",
              "...                       ...  ...  \n",
              "52545  London Marylebone Road  MY1  \n",
              "52546  London Marylebone Road  MY1  \n",
              "52547  London Marylebone Road  MY1  \n",
              "52548  London Marylebone Road  MY1  \n",
              "52549  London Marylebone Road  MY1  \n",
              "\n",
              "[52550 rows x 7 columns]"
            ],
            "text/html": [
              "\n",
              "  <div id=\"df-8a5b47f2-5b2f-461b-bacf-d4633a00e794\" class=\"colab-df-container\">\n",
              "    <div>\n",
              "<style scoped>\n",
              "    .dataframe tbody tr th:only-of-type {\n",
              "        vertical-align: middle;\n",
              "    }\n",
              "\n",
              "    .dataframe tbody tr th {\n",
              "        vertical-align: top;\n",
              "    }\n",
              "\n",
              "    .dataframe thead th {\n",
              "        text-align: right;\n",
              "    }\n",
              "</style>\n",
              "<table border=\"1\" class=\"dataframe\">\n",
              "  <thead>\n",
              "    <tr style=\"text-align: right;\">\n",
              "      <th></th>\n",
              "      <th>date</th>\n",
              "      <th>pm2.5</th>\n",
              "      <th>ws</th>\n",
              "      <th>wd</th>\n",
              "      <th>air_temp</th>\n",
              "      <th>site</th>\n",
              "      <th>code</th>\n",
              "    </tr>\n",
              "  </thead>\n",
              "  <tbody>\n",
              "    <tr>\n",
              "      <th>0</th>\n",
              "      <td>2021-01-01 00:00:00</td>\n",
              "      <td>30.448</td>\n",
              "      <td>1.5</td>\n",
              "      <td>314.9</td>\n",
              "      <td>-2.1</td>\n",
              "      <td>London N. Kensington</td>\n",
              "      <td>KC1</td>\n",
              "    </tr>\n",
              "    <tr>\n",
              "      <th>1</th>\n",
              "      <td>2021-01-01 01:00:00</td>\n",
              "      <td>55.802</td>\n",
              "      <td>2.1</td>\n",
              "      <td>318.7</td>\n",
              "      <td>-2.9</td>\n",
              "      <td>London N. Kensington</td>\n",
              "      <td>KC1</td>\n",
              "    </tr>\n",
              "    <tr>\n",
              "      <th>2</th>\n",
              "      <td>2021-01-01 02:00:00</td>\n",
              "      <td>28.278</td>\n",
              "      <td>1.9</td>\n",
              "      <td>310.8</td>\n",
              "      <td>-3.6</td>\n",
              "      <td>London N. Kensington</td>\n",
              "      <td>KC1</td>\n",
              "    </tr>\n",
              "    <tr>\n",
              "      <th>3</th>\n",
              "      <td>2021-01-01 03:00:00</td>\n",
              "      <td>15.613</td>\n",
              "      <td>2.0</td>\n",
              "      <td>309.3</td>\n",
              "      <td>-4.0</td>\n",
              "      <td>London N. Kensington</td>\n",
              "      <td>KC1</td>\n",
              "    </tr>\n",
              "    <tr>\n",
              "      <th>4</th>\n",
              "      <td>2021-01-01 04:00:00</td>\n",
              "      <td>19.764</td>\n",
              "      <td>2.0</td>\n",
              "      <td>300.4</td>\n",
              "      <td>-4.5</td>\n",
              "      <td>London N. Kensington</td>\n",
              "      <td>KC1</td>\n",
              "    </tr>\n",
              "    <tr>\n",
              "      <th>...</th>\n",
              "      <td>...</td>\n",
              "      <td>...</td>\n",
              "      <td>...</td>\n",
              "      <td>...</td>\n",
              "      <td>...</td>\n",
              "      <td>...</td>\n",
              "      <td>...</td>\n",
              "    </tr>\n",
              "    <tr>\n",
              "      <th>52545</th>\n",
              "      <td>2023-12-31 09:00:00</td>\n",
              "      <td>4.000</td>\n",
              "      <td>6.0</td>\n",
              "      <td>218.1</td>\n",
              "      <td>8.2</td>\n",
              "      <td>London Marylebone Road</td>\n",
              "      <td>MY1</td>\n",
              "    </tr>\n",
              "    <tr>\n",
              "      <th>52546</th>\n",
              "      <td>2023-12-31 10:00:00</td>\n",
              "      <td>6.000</td>\n",
              "      <td>6.4</td>\n",
              "      <td>223.6</td>\n",
              "      <td>8.4</td>\n",
              "      <td>London Marylebone Road</td>\n",
              "      <td>MY1</td>\n",
              "    </tr>\n",
              "    <tr>\n",
              "      <th>52547</th>\n",
              "      <td>2023-12-31 11:00:00</td>\n",
              "      <td>6.000</td>\n",
              "      <td>6.2</td>\n",
              "      <td>232.5</td>\n",
              "      <td>9.1</td>\n",
              "      <td>London Marylebone Road</td>\n",
              "      <td>MY1</td>\n",
              "    </tr>\n",
              "    <tr>\n",
              "      <th>52548</th>\n",
              "      <td>2023-12-31 12:00:00</td>\n",
              "      <td>4.000</td>\n",
              "      <td>6.1</td>\n",
              "      <td>235.9</td>\n",
              "      <td>9.3</td>\n",
              "      <td>London Marylebone Road</td>\n",
              "      <td>MY1</td>\n",
              "    </tr>\n",
              "    <tr>\n",
              "      <th>52549</th>\n",
              "      <td>2023-12-31 13:00:00</td>\n",
              "      <td>13.000</td>\n",
              "      <td>6.1</td>\n",
              "      <td>248.2</td>\n",
              "      <td>8.5</td>\n",
              "      <td>London Marylebone Road</td>\n",
              "      <td>MY1</td>\n",
              "    </tr>\n",
              "  </tbody>\n",
              "</table>\n",
              "<p>52550 rows × 7 columns</p>\n",
              "</div>\n",
              "    <div class=\"colab-df-buttons\">\n",
              "\n",
              "  <div class=\"colab-df-container\">\n",
              "    <button class=\"colab-df-convert\" onclick=\"convertToInteractive('df-8a5b47f2-5b2f-461b-bacf-d4633a00e794')\"\n",
              "            title=\"Convert this dataframe to an interactive table.\"\n",
              "            style=\"display:none;\">\n",
              "\n",
              "  <svg xmlns=\"http://www.w3.org/2000/svg\" height=\"24px\" viewBox=\"0 -960 960 960\">\n",
              "    <path d=\"M120-120v-720h720v720H120Zm60-500h600v-160H180v160Zm220 220h160v-160H400v160Zm0 220h160v-160H400v160ZM180-400h160v-160H180v160Zm440 0h160v-160H620v160ZM180-180h160v-160H180v160Zm440 0h160v-160H620v160Z\"/>\n",
              "  </svg>\n",
              "    </button>\n",
              "\n",
              "  <style>\n",
              "    .colab-df-container {\n",
              "      display:flex;\n",
              "      gap: 12px;\n",
              "    }\n",
              "\n",
              "    .colab-df-convert {\n",
              "      background-color: #E8F0FE;\n",
              "      border: none;\n",
              "      border-radius: 50%;\n",
              "      cursor: pointer;\n",
              "      display: none;\n",
              "      fill: #1967D2;\n",
              "      height: 32px;\n",
              "      padding: 0 0 0 0;\n",
              "      width: 32px;\n",
              "    }\n",
              "\n",
              "    .colab-df-convert:hover {\n",
              "      background-color: #E2EBFA;\n",
              "      box-shadow: 0px 1px 2px rgba(60, 64, 67, 0.3), 0px 1px 3px 1px rgba(60, 64, 67, 0.15);\n",
              "      fill: #174EA6;\n",
              "    }\n",
              "\n",
              "    .colab-df-buttons div {\n",
              "      margin-bottom: 4px;\n",
              "    }\n",
              "\n",
              "    [theme=dark] .colab-df-convert {\n",
              "      background-color: #3B4455;\n",
              "      fill: #D2E3FC;\n",
              "    }\n",
              "\n",
              "    [theme=dark] .colab-df-convert:hover {\n",
              "      background-color: #434B5C;\n",
              "      box-shadow: 0px 1px 3px 1px rgba(0, 0, 0, 0.15);\n",
              "      filter: drop-shadow(0px 1px 2px rgba(0, 0, 0, 0.3));\n",
              "      fill: #FFFFFF;\n",
              "    }\n",
              "  </style>\n",
              "\n",
              "    <script>\n",
              "      const buttonEl =\n",
              "        document.querySelector('#df-8a5b47f2-5b2f-461b-bacf-d4633a00e794 button.colab-df-convert');\n",
              "      buttonEl.style.display =\n",
              "        google.colab.kernel.accessAllowed ? 'block' : 'none';\n",
              "\n",
              "      async function convertToInteractive(key) {\n",
              "        const element = document.querySelector('#df-8a5b47f2-5b2f-461b-bacf-d4633a00e794');\n",
              "        const dataTable =\n",
              "          await google.colab.kernel.invokeFunction('convertToInteractive',\n",
              "                                                    [key], {});\n",
              "        if (!dataTable) return;\n",
              "\n",
              "        const docLinkHtml = 'Like what you see? Visit the ' +\n",
              "          '<a target=\"_blank\" href=https://colab.research.google.com/notebooks/data_table.ipynb>data table notebook</a>'\n",
              "          + ' to learn more about interactive tables.';\n",
              "        element.innerHTML = '';\n",
              "        dataTable['output_type'] = 'display_data';\n",
              "        await google.colab.output.renderOutput(dataTable, element);\n",
              "        const docLink = document.createElement('div');\n",
              "        docLink.innerHTML = docLinkHtml;\n",
              "        element.appendChild(docLink);\n",
              "      }\n",
              "    </script>\n",
              "  </div>\n",
              "\n",
              "\n",
              "<div id=\"df-df36b72a-9860-457f-be9f-4d224d9fb4cd\">\n",
              "  <button class=\"colab-df-quickchart\" onclick=\"quickchart('df-df36b72a-9860-457f-be9f-4d224d9fb4cd')\"\n",
              "            title=\"Suggest charts\"\n",
              "            style=\"display:none;\">\n",
              "\n",
              "<svg xmlns=\"http://www.w3.org/2000/svg\" height=\"24px\"viewBox=\"0 0 24 24\"\n",
              "     width=\"24px\">\n",
              "    <g>\n",
              "        <path d=\"M19 3H5c-1.1 0-2 .9-2 2v14c0 1.1.9 2 2 2h14c1.1 0 2-.9 2-2V5c0-1.1-.9-2-2-2zM9 17H7v-7h2v7zm4 0h-2V7h2v10zm4 0h-2v-4h2v4z\"/>\n",
              "    </g>\n",
              "</svg>\n",
              "  </button>\n",
              "\n",
              "<style>\n",
              "  .colab-df-quickchart {\n",
              "      --bg-color: #E8F0FE;\n",
              "      --fill-color: #1967D2;\n",
              "      --hover-bg-color: #E2EBFA;\n",
              "      --hover-fill-color: #174EA6;\n",
              "      --disabled-fill-color: #AAA;\n",
              "      --disabled-bg-color: #DDD;\n",
              "  }\n",
              "\n",
              "  [theme=dark] .colab-df-quickchart {\n",
              "      --bg-color: #3B4455;\n",
              "      --fill-color: #D2E3FC;\n",
              "      --hover-bg-color: #434B5C;\n",
              "      --hover-fill-color: #FFFFFF;\n",
              "      --disabled-bg-color: #3B4455;\n",
              "      --disabled-fill-color: #666;\n",
              "  }\n",
              "\n",
              "  .colab-df-quickchart {\n",
              "    background-color: var(--bg-color);\n",
              "    border: none;\n",
              "    border-radius: 50%;\n",
              "    cursor: pointer;\n",
              "    display: none;\n",
              "    fill: var(--fill-color);\n",
              "    height: 32px;\n",
              "    padding: 0;\n",
              "    width: 32px;\n",
              "  }\n",
              "\n",
              "  .colab-df-quickchart:hover {\n",
              "    background-color: var(--hover-bg-color);\n",
              "    box-shadow: 0 1px 2px rgba(60, 64, 67, 0.3), 0 1px 3px 1px rgba(60, 64, 67, 0.15);\n",
              "    fill: var(--button-hover-fill-color);\n",
              "  }\n",
              "\n",
              "  .colab-df-quickchart-complete:disabled,\n",
              "  .colab-df-quickchart-complete:disabled:hover {\n",
              "    background-color: var(--disabled-bg-color);\n",
              "    fill: var(--disabled-fill-color);\n",
              "    box-shadow: none;\n",
              "  }\n",
              "\n",
              "  .colab-df-spinner {\n",
              "    border: 2px solid var(--fill-color);\n",
              "    border-color: transparent;\n",
              "    border-bottom-color: var(--fill-color);\n",
              "    animation:\n",
              "      spin 1s steps(1) infinite;\n",
              "  }\n",
              "\n",
              "  @keyframes spin {\n",
              "    0% {\n",
              "      border-color: transparent;\n",
              "      border-bottom-color: var(--fill-color);\n",
              "      border-left-color: var(--fill-color);\n",
              "    }\n",
              "    20% {\n",
              "      border-color: transparent;\n",
              "      border-left-color: var(--fill-color);\n",
              "      border-top-color: var(--fill-color);\n",
              "    }\n",
              "    30% {\n",
              "      border-color: transparent;\n",
              "      border-left-color: var(--fill-color);\n",
              "      border-top-color: var(--fill-color);\n",
              "      border-right-color: var(--fill-color);\n",
              "    }\n",
              "    40% {\n",
              "      border-color: transparent;\n",
              "      border-right-color: var(--fill-color);\n",
              "      border-top-color: var(--fill-color);\n",
              "    }\n",
              "    60% {\n",
              "      border-color: transparent;\n",
              "      border-right-color: var(--fill-color);\n",
              "    }\n",
              "    80% {\n",
              "      border-color: transparent;\n",
              "      border-right-color: var(--fill-color);\n",
              "      border-bottom-color: var(--fill-color);\n",
              "    }\n",
              "    90% {\n",
              "      border-color: transparent;\n",
              "      border-bottom-color: var(--fill-color);\n",
              "    }\n",
              "  }\n",
              "</style>\n",
              "\n",
              "  <script>\n",
              "    async function quickchart(key) {\n",
              "      const quickchartButtonEl =\n",
              "        document.querySelector('#' + key + ' button');\n",
              "      quickchartButtonEl.disabled = true;  // To prevent multiple clicks.\n",
              "      quickchartButtonEl.classList.add('colab-df-spinner');\n",
              "      try {\n",
              "        const charts = await google.colab.kernel.invokeFunction(\n",
              "            'suggestCharts', [key], {});\n",
              "      } catch (error) {\n",
              "        console.error('Error during call to suggestCharts:', error);\n",
              "      }\n",
              "      quickchartButtonEl.classList.remove('colab-df-spinner');\n",
              "      quickchartButtonEl.classList.add('colab-df-quickchart-complete');\n",
              "    }\n",
              "    (() => {\n",
              "      let quickchartButtonEl =\n",
              "        document.querySelector('#df-df36b72a-9860-457f-be9f-4d224d9fb4cd button');\n",
              "      quickchartButtonEl.style.display =\n",
              "        google.colab.kernel.accessAllowed ? 'block' : 'none';\n",
              "    })();\n",
              "  </script>\n",
              "</div>\n",
              "\n",
              "    </div>\n",
              "  </div>\n"
            ],
            "application/vnd.google.colaboratory.intrinsic+json": {
              "type": "dataframe",
              "variable_name": "df_pm2_5",
              "summary": "{\n  \"name\": \"df_pm2_5\",\n  \"rows\": 52560,\n  \"fields\": [\n    {\n      \"column\": \"date\",\n      \"properties\": {\n        \"dtype\": \"date\",\n        \"min\": \"2021-01-01 00:00:00\",\n        \"max\": \"2023-12-31 23:00:00\",\n        \"num_unique_values\": 26280,\n        \"samples\": [\n          \"2023-04-16 01:00:00\",\n          \"2021-09-20 01:00:00\",\n          \"2021-11-06 12:00:00\"\n        ],\n        \"semantic_type\": \"\",\n        \"description\": \"\"\n      }\n    },\n    {\n      \"column\": \"pm2.5\",\n      \"properties\": {\n        \"dtype\": \"number\",\n        \"std\": 7.415637094435305,\n        \"min\": 0.1,\n        \"max\": 98.019,\n        \"num_unique_values\": 4836,\n        \"samples\": [\n          63.68,\n          12.762416941282343,\n          23.302\n        ],\n        \"semantic_type\": \"\",\n        \"description\": \"\"\n      }\n    },\n    {\n      \"column\": \"ws\",\n      \"properties\": {\n        \"dtype\": \"number\",\n        \"std\": 1.595931505933789,\n        \"min\": 0.0,\n        \"max\": 13.7,\n        \"num_unique_values\": 598,\n        \"samples\": [\n          3.72566749545111,\n          3.8288005555784417,\n          2.773116289747987\n        ],\n        \"semantic_type\": \"\",\n        \"description\": \"\"\n      }\n    },\n    {\n      \"column\": \"wd\",\n      \"properties\": {\n        \"dtype\": \"number\",\n        \"std\": 99.42988178880411,\n        \"min\": 0.0,\n        \"max\": 360.0,\n        \"num_unique_values\": 4041,\n        \"samples\": [\n          66.6,\n          272.3,\n          173.7\n        ],\n        \"semantic_type\": \"\",\n        \"description\": \"\"\n      }\n    },\n    {\n      \"column\": \"air_temp\",\n      \"properties\": {\n        \"dtype\": \"number\",\n        \"std\": 6.197261669955603,\n        \"min\": -6.2,\n        \"max\": 31.9,\n        \"num_unique_values\": 843,\n        \"samples\": [\n          11.292027867795023,\n          -5.9,\n          10.388451742259338\n        ],\n        \"semantic_type\": \"\",\n        \"description\": \"\"\n      }\n    },\n    {\n      \"column\": \"site\",\n      \"properties\": {\n        \"dtype\": \"category\",\n        \"num_unique_values\": 2,\n        \"samples\": [\n          \"London Marylebone Road\",\n          \"London N. Kensington\"\n        ],\n        \"semantic_type\": \"\",\n        \"description\": \"\"\n      }\n    },\n    {\n      \"column\": \"code\",\n      \"properties\": {\n        \"dtype\": \"category\",\n        \"num_unique_values\": 2,\n        \"samples\": [\n          \"MY1\",\n          \"KC1\"\n        ],\n        \"semantic_type\": \"\",\n        \"description\": \"\"\n      }\n    }\n  ]\n}"
            }
          },
          "metadata": {},
          "execution_count": 17
        }
      ]
    },
    {
      "cell_type": "markdown",
      "source": [
        "## --> ensure positive values"
      ],
      "metadata": {
        "id": "6PdaXutjPEoA"
      }
    },
    {
      "cell_type": "code",
      "source": [
        "# Function to replace non-positive values in 'pm2.5' column\n",
        "def replace_non_positive(df):\n",
        "    # Get the minimum positive value in the 'pm2.5' column\n",
        "    min_positive = df[df['pm2.5'] > 0]['pm2.5'].min()\n",
        "    # Replace values less than or equal to 0 with the minimum positive value\n",
        "    df['pm2.5'] = df['pm2.5'].apply(lambda x: min_positive if x <= 0 else x)\n",
        "\n",
        "# Apply the function to df_pm_nomissing\n",
        "replace_non_positive(df_pm2_5)"
      ],
      "metadata": {
        "id": "sCYC9vOPPHM-"
      },
      "execution_count": null,
      "outputs": []
    },
    {
      "cell_type": "code",
      "source": [
        "missing_values = df_pm2_5.isnull().sum()\n",
        "missing_values"
      ],
      "metadata": {
        "colab": {
          "base_uri": "https://localhost:8080/"
        },
        "id": "o7idhCZnPQZp",
        "outputId": "40c2a825-ae48-4df7-a0c3-0bcd2f86cb4c"
      },
      "execution_count": null,
      "outputs": [
        {
          "output_type": "execute_result",
          "data": {
            "text/plain": [
              "date        0\n",
              "pm2.5       0\n",
              "ws          0\n",
              "wd          0\n",
              "air_temp    0\n",
              "site        0\n",
              "code        0\n",
              "dtype: int64"
            ]
          },
          "metadata": {},
          "execution_count": 19
        }
      ]
    },
    {
      "cell_type": "markdown",
      "source": [
        "# (Partial) Autocorrelation"
      ],
      "metadata": {
        "id": "MTfTzp8oiN4i"
      }
    },
    {
      "cell_type": "code",
      "source": [
        "# Plot Autocorrelation Function (ACF)\n",
        "plt.figure(figsize=(12, 6))\n",
        "plot_acf(df_pm2_5['pm2.5'], lags=72)\n",
        "plt.title('Autocorrelation Function (ACF) for Hourly PM2.5')\n",
        "plt.xlabel('Lags')\n",
        "plt.ylabel('Autocorrelation')\n",
        "plt.ylim(0, 1.2)\n",
        "plt.show()"
      ],
      "metadata": {
        "colab": {
          "base_uri": "https://localhost:8080/",
          "height": 490
        },
        "id": "dm8JjyOQiRHX",
        "outputId": "8cd60557-c20e-4860-a568-5325aeeaa30c"
      },
      "execution_count": null,
      "outputs": [
        {
          "output_type": "display_data",
          "data": {
            "text/plain": [
              "<Figure size 1200x600 with 0 Axes>"
            ]
          },
          "metadata": {}
        },
        {
          "output_type": "display_data",
          "data": {
            "text/plain": [
              "<Figure size 640x480 with 1 Axes>"
            ],
            "image/png": "[encoded data removed]"
          },
          "metadata": {}
        }
      ]
    },
    {
      "cell_type": "code",
      "source": [
        "acf_values = acf(df_pm2_5['pm2.5'], nlags=50)\n",
        "\n",
        "value = []\n",
        "for i in range(25):\n",
        "    value.append(acf_values[i])\n",
        "    print(i, value[i])"
      ],
      "metadata": {
        "colab": {
          "base_uri": "https://localhost:8080/"
        },
        "id": "BPw8xkQvicMA",
        "outputId": "1a8a23eb-76d1-4d35-c134-340cb427a1ca"
      },
      "execution_count": null,
      "outputs": [
        {
          "output_type": "stream",
          "name": "stdout",
          "text": [
            "0 1.0\n",
            "1 0.9363776361722939\n",
            "2 0.8828718713441263\n",
            "3 0.8301103492137738\n",
            "4 0.7785165040788975\n",
            "5 0.7303911154526257\n",
            "6 0.6863946851667098\n",
            "7 0.6461142121775301\n",
            "8 0.6102996134295406\n",
            "9 0.5789245564313553\n",
            "10 0.552693002237703\n",
            "11 0.531762333924329\n",
            "12 0.5138215729361109\n",
            "13 0.49925664985856005\n",
            "14 0.487108782299683\n",
            "15 0.47819317417884083\n",
            "16 0.47286141044447005\n",
            "17 0.47033337172916784\n",
            "18 0.47116537401106073\n",
            "19 0.4746644531759801\n",
            "20 0.4809117576653819\n",
            "21 0.4864398356522152\n",
            "22 0.4910339307484029\n",
            "23 0.48950707242411373\n",
            "24 0.48391445605245126\n"
          ]
        }
      ]
    },
    {
      "cell_type": "code",
      "source": [
        "# Plot Partial Autocorrelation Function (PACF)\n",
        "plt.figure(figsize=(12, 6))\n",
        "plot_pacf(df_pm2_5['pm2.5'], lags=72)\n",
        "plt.title('Partial Autocorrelation Function (PACF) for Hourly PM2.5')\n",
        "plt.xlabel('Lags')\n",
        "plt.ylabel('Partial Autocorrelation')\n",
        "plt.ylim(0, 1.2)\n",
        "plt.show()"
      ],
      "metadata": {
        "colab": {
          "base_uri": "https://localhost:8080/",
          "height": 490
        },
        "id": "R1iS1JVZlISV",
        "outputId": "865f4828-4f7d-4c3c-b27c-cfc15c58281a"
      },
      "execution_count": null,
      "outputs": [
        {
          "output_type": "display_data",
          "data": {
            "text/plain": [
              "<Figure size 1200x600 with 0 Axes>"
            ]
          },
          "metadata": {}
        },
        {
          "output_type": "display_data",
          "data": {
            "text/plain": [
              "<Figure size 640x480 with 1 Axes>"
            ],
            "image/png": "[encoded data removed]"
          },
          "metadata": {}
        }
      ]
    },
    {
      "cell_type": "code",
      "source": [
        "# Filter data for the two stations\n",
        "kc1_data = df_pm2_5[df_pm2_5['code'] == 'KC1'].set_index('date')['pm2.5']\n",
        "my1_data = df_pm2_5[df_pm2_5['code'] == 'MY1'].set_index('date')['pm2.5']\n",
        "\n",
        "# Ensure the two datasets are aligned by time\n",
        "kc1_data = kc1_data.sort_index()\n",
        "my1_data = my1_data.sort_index()\n",
        "\n",
        "# Calculate the correlation between the two stations\n",
        "correlation = kc1_data.corr(my1_data)\n",
        "\n",
        "# Print the correlation\n",
        "print(f'The correlation between KC1 and MY1 is: {correlation}')\n",
        "\n",
        "# Scatter plot\n",
        "plt.figure(figsize=(12, 6))\n",
        "plt.scatter(kc1_data, my1_data, alpha=0.5, label='Data Points')\n",
        "\n",
        "# Linear regression line\n",
        "m, b = np.polyfit(kc1_data, my1_data, 1)\n",
        "plt.plot(kc1_data, m*kc1_data + b, color='red', label='Regression Line')\n",
        "\n",
        "plt.title('The Correlation between Two Sites')\n",
        "plt.xlabel('KC1 PM2.5')\n",
        "plt.ylabel('MY1 PM2.5')\n",
        "plt.grid(True)\n",
        "plt.legend()\n",
        "plt.show()"
      ],
      "metadata": {
        "colab": {
          "base_uri": "https://localhost:8080/",
          "height": 582
        },
        "id": "K6b9fubfzt70",
        "outputId": "176ffb11-ed9d-48eb-8f33-f14d02a90cd5"
      },
      "execution_count": null,
      "outputs": [
        {
          "output_type": "stream",
          "name": "stdout",
          "text": [
            "The correlation between KC1 and MY1 is: 0.8381432224069293\n"
          ]
        },
        {
          "output_type": "display_data",
          "data": {
            "text/plain": [
              "<Figure size 1200x600 with 1 Axes>"
            ],
            "image/png": "[encoded data removed]"
          },
          "metadata": {}
        }
      ]
    },
    {
      "cell_type": "markdown",
      "source": [
        "# MinMaxScaler"
      ],
      "metadata": {
        "id": "FacaP6bWjZWM"
      }
    },
    {
      "cell_type": "code",
      "source": [
        "# Features to minmax scale\n",
        "features = ['pm2.5', 'ws', 'wd', 'air_temp']\n",
        "\n",
        "scaler_minmax = MinMaxScaler(feature_range=(0, 1))\n",
        "df_pm2_5[features] = scaler_minmax.fit_transform(df_pm2_5[features])"
      ],
      "metadata": {
        "id": "5txLzIOZjO1p"
      },
      "execution_count": null,
      "outputs": []
    },
    {
      "cell_type": "markdown",
      "source": [
        "# Encoding"
      ],
      "metadata": {
        "id": "3rT921fbjguf"
      }
    },
    {
      "cell_type": "code",
      "source": [
        "encoder = LabelEncoder()\n",
        "df_pm2_5['code_encoded'] = encoder.fit_transform(df_pm2_5['code'])\n",
        "df_pm2_5.head()"
      ],
      "metadata": {
        "colab": {
          "base_uri": "https://localhost:8080/",
          "height": 206
        },
        "id": "OKvBYztSjic0",
        "outputId": "5b4945ba-6edf-4c5e-9585-0a4192c0f534"
      },
      "execution_count": null,
      "outputs": [
        {
          "output_type": "execute_result",
          "data": {
            "text/plain": [
              "                 date     pm2.5        ws        wd  air_temp  \\\n",
              "0 2021-01-01 00:00:00  0.309930  0.109489  0.874722  0.107612   \n",
              "1 2021-01-01 01:00:00  0.568858  0.153285  0.885278  0.086614   \n",
              "2 2021-01-01 02:00:00  0.287768  0.138686  0.863333  0.068241   \n",
              "3 2021-01-01 03:00:00  0.158427  0.145985  0.859167  0.057743   \n",
              "4 2021-01-01 04:00:00  0.200819  0.145985  0.834444  0.044619   \n",
              "\n",
              "                   site code  code_encoded  \n",
              "0  London N. Kensington  KC1             0  \n",
              "1  London N. Kensington  KC1             0  \n",
              "2  London N. Kensington  KC1             0  \n",
              "3  London N. Kensington  KC1             0  \n",
              "4  London N. Kensington  KC1             0  "
            ],
            "text/html": [
              "\n",
              "  <div id=\"df-574e7c4c-dcf1-42b4-afbe-7364c659ed72\" class=\"colab-df-container\">\n",
              "    <div>\n",
              "<style scoped>\n",
              "    .dataframe tbody tr th:only-of-type {\n",
              "        vertical-align: middle;\n",
              "    }\n",
              "\n",
              "    .dataframe tbody tr th {\n",
              "        vertical-align: top;\n",
              "    }\n",
              "\n",
              "    .dataframe thead th {\n",
              "        text-align: right;\n",
              "    }\n",
              "</style>\n",
              "<table border=\"1\" class=\"dataframe\">\n",
              "  <thead>\n",
              "    <tr style=\"text-align: right;\">\n",
              "      <th></th>\n",
              "      <th>date</th>\n",
              "      <th>pm2.5</th>\n",
              "      <th>ws</th>\n",
              "      <th>wd</th>\n",
              "      <th>air_temp</th>\n",
              "      <th>site</th>\n",
              "      <th>code</th>\n",
              "      <th>code_encoded</th>\n",
              "    </tr>\n",
              "  </thead>\n",
              "  <tbody>\n",
              "    <tr>\n",
              "      <th>0</th>\n",
              "      <td>2021-01-01 00:00:00</td>\n",
              "      <td>0.309930</td>\n",
              "      <td>0.109489</td>\n",
              "      <td>0.874722</td>\n",
              "      <td>0.107612</td>\n",
              "      <td>London N. Kensington</td>\n",
              "      <td>KC1</td>\n",
              "      <td>0</td>\n",
              "    </tr>\n",
              "    <tr>\n",
              "      <th>1</th>\n",
              "      <td>2021-01-01 01:00:00</td>\n",
              "      <td>0.568858</td>\n",
              "      <td>0.153285</td>\n",
              "      <td>0.885278</td>\n",
              "      <td>0.086614</td>\n",
              "      <td>London N. Kensington</td>\n",
              "      <td>KC1</td>\n",
              "      <td>0</td>\n",
              "    </tr>\n",
              "    <tr>\n",
              "      <th>2</th>\n",
              "      <td>2021-01-01 02:00:00</td>\n",
              "      <td>0.287768</td>\n",
              "      <td>0.138686</td>\n",
              "      <td>0.863333</td>\n",
              "      <td>0.068241</td>\n",
              "      <td>London N. Kensington</td>\n",
              "      <td>KC1</td>\n",
              "      <td>0</td>\n",
              "    </tr>\n",
              "    <tr>\n",
              "      <th>3</th>\n",
              "      <td>2021-01-01 03:00:00</td>\n",
              "      <td>0.158427</td>\n",
              "      <td>0.145985</td>\n",
              "      <td>0.859167</td>\n",
              "      <td>0.057743</td>\n",
              "      <td>London N. Kensington</td>\n",
              "      <td>KC1</td>\n",
              "      <td>0</td>\n",
              "    </tr>\n",
              "    <tr>\n",
              "      <th>4</th>\n",
              "      <td>2021-01-01 04:00:00</td>\n",
              "      <td>0.200819</td>\n",
              "      <td>0.145985</td>\n",
              "      <td>0.834444</td>\n",
              "      <td>0.044619</td>\n",
              "      <td>London N. Kensington</td>\n",
              "      <td>KC1</td>\n",
              "      <td>0</td>\n",
              "    </tr>\n",
              "  </tbody>\n",
              "</table>\n",
              "</div>\n",
              "    <div class=\"colab-df-buttons\">\n",
              "\n",
              "  <div class=\"colab-df-container\">\n",
              "    <button class=\"colab-df-convert\" onclick=\"convertToInteractive('df-574e7c4c-dcf1-42b4-afbe-7364c659ed72')\"\n",
              "            title=\"Convert this dataframe to an interactive table.\"\n",
              "            style=\"display:none;\">\n",
              "\n",
              "  <svg xmlns=\"http://www.w3.org/2000/svg\" height=\"24px\" viewBox=\"0 -960 960 960\">\n",
              "    <path d=\"M120-120v-720h720v720H120Zm60-500h600v-160H180v160Zm220 220h160v-160H400v160Zm0 220h160v-160H400v160ZM180-400h160v-160H180v160Zm440 0h160v-160H620v160ZM180-180h160v-160H180v160Zm440 0h160v-160H620v160Z\"/>\n",
              "  </svg>\n",
              "    </button>\n",
              "\n",
              "  <style>\n",
              "    .colab-df-container {\n",
              "      display:flex;\n",
              "      gap: 12px;\n",
              "    }\n",
              "\n",
              "    .colab-df-convert {\n",
              "      background-color: #E8F0FE;\n",
              "      border: none;\n",
              "      border-radius: 50%;\n",
              "      cursor: pointer;\n",
              "      display: none;\n",
              "      fill: #1967D2;\n",
              "      height: 32px;\n",
              "      padding: 0 0 0 0;\n",
              "      width: 32px;\n",
              "    }\n",
              "\n",
              "    .colab-df-convert:hover {\n",
              "      background-color: #E2EBFA;\n",
              "      box-shadow: 0px 1px 2px rgba(60, 64, 67, 0.3), 0px 1px 3px 1px rgba(60, 64, 67, 0.15);\n",
              "      fill: #174EA6;\n",
              "    }\n",
              "\n",
              "    .colab-df-buttons div {\n",
              "      margin-bottom: 4px;\n",
              "    }\n",
              "\n",
              "    [theme=dark] .colab-df-convert {\n",
              "      background-color: #3B4455;\n",
              "      fill: #D2E3FC;\n",
              "    }\n",
              "\n",
              "    [theme=dark] .colab-df-convert:hover {\n",
              "      background-color: #434B5C;\n",
              "      box-shadow: 0px 1px 3px 1px rgba(0, 0, 0, 0.15);\n",
              "      filter: drop-shadow(0px 1px 2px rgba(0, 0, 0, 0.3));\n",
              "      fill: #FFFFFF;\n",
              "    }\n",
              "  </style>\n",
              "\n",
              "    <script>\n",
              "      const buttonEl =\n",
              "        document.querySelector('#df-574e7c4c-dcf1-42b4-afbe-7364c659ed72 button.colab-df-convert');\n",
              "      buttonEl.style.display =\n",
              "        google.colab.kernel.accessAllowed ? 'block' : 'none';\n",
              "\n",
              "      async function convertToInteractive(key) {\n",
              "        const element = document.querySelector('#df-574e7c4c-dcf1-42b4-afbe-7364c659ed72');\n",
              "        const dataTable =\n",
              "          await google.colab.kernel.invokeFunction('convertToInteractive',\n",
              "                                                    [key], {});\n",
              "        if (!dataTable) return;\n",
              "\n",
              "        const docLinkHtml = 'Like what you see? Visit the ' +\n",
              "          '<a target=\"_blank\" href=https://colab.research.google.com/notebooks/data_table.ipynb>data table notebook</a>'\n",
              "          + ' to learn more about interactive tables.';\n",
              "        element.innerHTML = '';\n",
              "        dataTable['output_type'] = 'display_data';\n",
              "        await google.colab.output.renderOutput(dataTable, element);\n",
              "        const docLink = document.createElement('div');\n",
              "        docLink.innerHTML = docLinkHtml;\n",
              "        element.appendChild(docLink);\n",
              "      }\n",
              "    </script>\n",
              "  </div>\n",
              "\n",
              "\n",
              "<div id=\"df-474ff895-4d31-4715-ac1a-27d303911b14\">\n",
              "  <button class=\"colab-df-quickchart\" onclick=\"quickchart('df-474ff895-4d31-4715-ac1a-27d303911b14')\"\n",
              "            title=\"Suggest charts\"\n",
              "            style=\"display:none;\">\n",
              "\n",
              "<svg xmlns=\"http://www.w3.org/2000/svg\" height=\"24px\"viewBox=\"0 0 24 24\"\n",
              "     width=\"24px\">\n",
              "    <g>\n",
              "        <path d=\"M19 3H5c-1.1 0-2 .9-2 2v14c0 1.1.9 2 2 2h14c1.1 0 2-.9 2-2V5c0-1.1-.9-2-2-2zM9 17H7v-7h2v7zm4 0h-2V7h2v10zm4 0h-2v-4h2v4z\"/>\n",
              "    </g>\n",
              "</svg>\n",
              "  </button>\n",
              "\n",
              "<style>\n",
              "  .colab-df-quickchart {\n",
              "      --bg-color: #E8F0FE;\n",
              "      --fill-color: #1967D2;\n",
              "      --hover-bg-color: #E2EBFA;\n",
              "      --hover-fill-color: #174EA6;\n",
              "      --disabled-fill-color: #AAA;\n",
              "      --disabled-bg-color: #DDD;\n",
              "  }\n",
              "\n",
              "  [theme=dark] .colab-df-quickchart {\n",
              "      --bg-color: #3B4455;\n",
              "      --fill-color: #D2E3FC;\n",
              "      --hover-bg-color: #434B5C;\n",
              "      --hover-fill-color: #FFFFFF;\n",
              "      --disabled-bg-color: #3B4455;\n",
              "      --disabled-fill-color: #666;\n",
              "  }\n",
              "\n",
              "  .colab-df-quickchart {\n",
              "    background-color: var(--bg-color);\n",
              "    border: none;\n",
              "    border-radius: 50%;\n",
              "    cursor: pointer;\n",
              "    display: none;\n",
              "    fill: var(--fill-color);\n",
              "    height: 32px;\n",
              "    padding: 0;\n",
              "    width: 32px;\n",
              "  }\n",
              "\n",
              "  .colab-df-quickchart:hover {\n",
              "    background-color: var(--hover-bg-color);\n",
              "    box-shadow: 0 1px 2px rgba(60, 64, 67, 0.3), 0 1px 3px 1px rgba(60, 64, 67, 0.15);\n",
              "    fill: var(--button-hover-fill-color);\n",
              "  }\n",
              "\n",
              "  .colab-df-quickchart-complete:disabled,\n",
              "  .colab-df-quickchart-complete:disabled:hover {\n",
              "    background-color: var(--disabled-bg-color);\n",
              "    fill: var(--disabled-fill-color);\n",
              "    box-shadow: none;\n",
              "  }\n",
              "\n",
              "  .colab-df-spinner {\n",
              "    border: 2px solid var(--fill-color);\n",
              "    border-color: transparent;\n",
              "    border-bottom-color: var(--fill-color);\n",
              "    animation:\n",
              "      spin 1s steps(1) infinite;\n",
              "  }\n",
              "\n",
              "  @keyframes spin {\n",
              "    0% {\n",
              "      border-color: transparent;\n",
              "      border-bottom-color: var(--fill-color);\n",
              "      border-left-color: var(--fill-color);\n",
              "    }\n",
              "    20% {\n",
              "      border-color: transparent;\n",
              "      border-left-color: var(--fill-color);\n",
              "      border-top-color: var(--fill-color);\n",
              "    }\n",
              "    30% {\n",
              "      border-color: transparent;\n",
              "      border-left-color: var(--fill-color);\n",
              "      border-top-color: var(--fill-color);\n",
              "      border-right-color: var(--fill-color);\n",
              "    }\n",
              "    40% {\n",
              "      border-color: transparent;\n",
              "      border-right-color: var(--fill-color);\n",
              "      border-top-color: var(--fill-color);\n",
              "    }\n",
              "    60% {\n",
              "      border-color: transparent;\n",
              "      border-right-color: var(--fill-color);\n",
              "    }\n",
              "    80% {\n",
              "      border-color: transparent;\n",
              "      border-right-color: var(--fill-color);\n",
              "      border-bottom-color: var(--fill-color);\n",
              "    }\n",
              "    90% {\n",
              "      border-color: transparent;\n",
              "      border-bottom-color: var(--fill-color);\n",
              "    }\n",
              "  }\n",
              "</style>\n",
              "\n",
              "  <script>\n",
              "    async function quickchart(key) {\n",
              "      const quickchartButtonEl =\n",
              "        document.querySelector('#' + key + ' button');\n",
              "      quickchartButtonEl.disabled = true;  // To prevent multiple clicks.\n",
              "      quickchartButtonEl.classList.add('colab-df-spinner');\n",
              "      try {\n",
              "        const charts = await google.colab.kernel.invokeFunction(\n",
              "            'suggestCharts', [key], {});\n",
              "      } catch (error) {\n",
              "        console.error('Error during call to suggestCharts:', error);\n",
              "      }\n",
              "      quickchartButtonEl.classList.remove('colab-df-spinner');\n",
              "      quickchartButtonEl.classList.add('colab-df-quickchart-complete');\n",
              "    }\n",
              "    (() => {\n",
              "      let quickchartButtonEl =\n",
              "        document.querySelector('#df-474ff895-4d31-4715-ac1a-27d303911b14 button');\n",
              "      quickchartButtonEl.style.display =\n",
              "        google.colab.kernel.accessAllowed ? 'block' : 'none';\n",
              "    })();\n",
              "  </script>\n",
              "</div>\n",
              "\n",
              "    </div>\n",
              "  </div>\n"
            ],
            "application/vnd.google.colaboratory.intrinsic+json": {
              "type": "dataframe",
              "variable_name": "df_pm2_5",
              "summary": "{\n  \"name\": \"df_pm2_5\",\n  \"rows\": 52560,\n  \"fields\": [\n    {\n      \"column\": \"date\",\n      \"properties\": {\n        \"dtype\": \"date\",\n        \"min\": \"2021-01-01 00:00:00\",\n        \"max\": \"2023-12-31 23:00:00\",\n        \"num_unique_values\": 26280,\n        \"samples\": [\n          \"2023-04-16 01:00:00\",\n          \"2021-09-20 01:00:00\",\n          \"2021-11-06 12:00:00\"\n        ],\n        \"semantic_type\": \"\",\n        \"description\": \"\"\n      }\n    },\n    {\n      \"column\": \"pm2.5\",\n      \"properties\": {\n        \"dtype\": \"number\",\n        \"std\": 0.0757323613847701,\n        \"min\": 0.0,\n        \"max\": 0.9999999999999999,\n        \"num_unique_values\": 4834,\n        \"samples\": [\n          0.05757976682834953,\n          0.016340036152329984,\n          0.23695094925397517\n        ],\n        \"semantic_type\": \"\",\n        \"description\": \"\"\n      }\n    },\n    {\n      \"column\": \"ws\",\n      \"properties\": {\n        \"dtype\": \"number\",\n        \"std\": 0.1164913507980868,\n        \"min\": 0.0,\n        \"max\": 1.0,\n        \"num_unique_values\": 598,\n        \"samples\": [\n          0.2719465325146796,\n          0.2794744931079155,\n          0.20241724742686037\n        ],\n        \"semantic_type\": \"\",\n        \"description\": \"\"\n      }\n    },\n    {\n      \"column\": \"wd\",\n      \"properties\": {\n        \"dtype\": \"number\",\n        \"std\": 0.27619411608001143,\n        \"min\": 0.0,\n        \"max\": 1.0,\n        \"num_unique_values\": 4041,\n        \"samples\": [\n          0.185,\n          0.756388888888889,\n          0.4825\n        ],\n        \"semantic_type\": \"\",\n        \"description\": \"\"\n      }\n    },\n    {\n      \"column\": \"air_temp\",\n      \"properties\": {\n        \"dtype\": \"number\",\n        \"std\": 0.16265778661300798,\n        \"min\": 0.0,\n        \"max\": 0.9999999999999999,\n        \"num_unique_values\": 843,\n        \"samples\": [\n          0.45910834298674597,\n          0.007874015748031482,\n          0.43539243418003515\n        ],\n        \"semantic_type\": \"\",\n        \"description\": \"\"\n      }\n    },\n    {\n      \"column\": \"site\",\n      \"properties\": {\n        \"dtype\": \"category\",\n        \"num_unique_values\": 2,\n        \"samples\": [\n          \"London Marylebone Road\",\n          \"London N. Kensington\"\n        ],\n        \"semantic_type\": \"\",\n        \"description\": \"\"\n      }\n    },\n    {\n      \"column\": \"code\",\n      \"properties\": {\n        \"dtype\": \"category\",\n        \"num_unique_values\": 2,\n        \"samples\": [\n          \"MY1\",\n          \"KC1\"\n        ],\n        \"semantic_type\": \"\",\n        \"description\": \"\"\n      }\n    },\n    {\n      \"column\": \"code_encoded\",\n      \"properties\": {\n        \"dtype\": \"number\",\n        \"std\": 0,\n        \"min\": 0,\n        \"max\": 1,\n        \"num_unique_values\": 2,\n        \"samples\": [\n          1,\n          0\n        ],\n        \"semantic_type\": \"\",\n        \"description\": \"\"\n      }\n    }\n  ]\n}"
            }
          },
          "metadata": {},
          "execution_count": 21
        }
      ]
    },
    {
      "cell_type": "code",
      "source": [
        "from google.colab import files\n",
        "\n",
        "df_pm2_5.to_csv('df_pm2_5.csv', index=False)\n",
        "\n",
        "files.download('df_pm2_5.csv')\n",
        "\n",
        "drive.mount('/content/drive')\n",
        "\n",
        "df_pm2_5.to_csv('/content/drive/My Drive/df_pm2_5.csv', index=False)"
      ],
      "metadata": {
        "id": "GdTQYAosj6B-"
      },
      "execution_count": null,
      "outputs": []
    },
    {
      "cell_type": "markdown",
      "source": [
        "# Modelling"
      ],
      "metadata": {
        "id": "Hl708ydSjvel"
      }
    },
    {
      "cell_type": "code",
      "source": [
        "from sklearn.model_selection import KFold, RandomizedSearchCV\n",
        "from tensorflow.keras.models import Sequential\n",
        "from tensorflow.keras.layers import LSTM, Dense\n",
        "from tensorflow.keras.optimizers import Adam\n",
        "from scikeras.wrappers import KerasRegressor\n",
        "from sklearn.metrics import mean_squared_error, mean_absolute_error\n",
        "from keras.callbacks import EarlyStopping\n",
        "from sklearn.model_selection import train_test_split\n",
        "from sklearn.metrics import r2_score"
      ],
      "metadata": {
        "id": "1rBNCghEjw-p"
      },
      "execution_count": null,
      "outputs": []
    },
    {
      "cell_type": "code",
      "source": [
        "df_pm2_5 = pd.read_csv('/content/drive/My Drive/df_pm2_5.csv')"
      ],
      "metadata": {
        "id": "6Gax9BdjkGWJ"
      },
      "execution_count": null,
      "outputs": []
    },
    {
      "cell_type": "markdown",
      "source": [
        "# the next hour"
      ],
      "metadata": {
        "id": "bHWvGg75jzR5"
      }
    },
    {
      "cell_type": "code",
      "source": [
        "# Create target variable shifted by 1 hour\n",
        "df_pm2_5['target'] = df_pm2_5['pm2.5'].shift(-1)\n",
        "\n",
        "# Drop the last row with NaN target due to shifting\n",
        "df_pm2_5.dropna(inplace=True)\n",
        "\n",
        "# Select features\n",
        "features = ['code_encoded', 'pm2.5', 'ws', 'wd', 'air_temp']\n",
        "\n",
        "# Function to create sequences for LSTM input\n",
        "def create_sequences(df, window_size):\n",
        "    X, y = [], []\n",
        "    for i in range(len(df) - window_size):\n",
        "        X.append(df.iloc[i:i + window_size][features].values)\n",
        "        y.append(df.iloc[i + window_size]['target'])\n",
        "    return np.array(X), np.array(y)"
      ],
      "metadata": {
        "id": "DMIfwcHHkTmo"
      },
      "execution_count": null,
      "outputs": []
    },
    {
      "cell_type": "markdown",
      "source": [
        "# 2h-->1h"
      ],
      "metadata": {
        "id": "45TVR4VLkljD"
      }
    },
    {
      "cell_type": "code",
      "source": [
        "# Set window size to 2 hours to predict the next 1 hours\n",
        "window_size = 2\n",
        "X, y = create_sequences(df_pm2_5, window_size)\n",
        "\n",
        "# Split the data into 80% training and 20% testing\n",
        "X_train, X_test, y_train, y_test = train_test_split(X, y, test_size=0.2, random_state=42)\n",
        "\n",
        "# Build LSTM model function\n",
        "def build_model(units=32, activation='tanh', learning_rate=0.001):\n",
        "    model = Sequential()\n",
        "    model.add(LSTM(units=units, activation=activation, return_sequences=True, input_shape=(window_size, len(features))))\n",
        "    model.add(LSTM(units=units, activation=activation))\n",
        "    model.add(Dense(1))  # Output layer to predict the next 1 hours\n",
        "    optimizer = Adam(learning_rate=learning_rate)\n",
        "    model.compile(optimizer=optimizer, loss='mean_squared_error')\n",
        "    return model\n",
        "\n",
        "# Initialize Keras Regressor\n",
        "model = KerasRegressor(build_fn=build_model, epochs=20, batch_size=32, verbose=0)\n",
        "\n",
        "# KFold for cross-validation on the training set\n",
        "kf = KFold(n_splits=5)\n",
        "\n",
        "for train_index, val_index in kf.split(X_train):\n",
        "    X_train_fold, X_val_fold = X_train[train_index], X_train[val_index]\n",
        "    y_train_fold, y_val_fold = y_train[train_index], y_train[val_index]\n",
        "\n",
        "    model.fit(X_train_fold, y_train_fold)\n",
        "\n",
        "# Train the model on the entire training set\n",
        "model.fit(X_train, y_train)\n",
        "\n",
        "# Evaluate the model on the test set\n",
        "test_predictions = model.predict(X_test)\n",
        "test_rmse = np.sqrt(mean_squared_error(y_test.flatten(), test_predictions.flatten()))\n",
        "test_mae = mean_absolute_error(y_test.flatten(), test_predictions.flatten())\n",
        "test_r2 = r2_score(y_test.flatten(), test_predictions.flatten())\n",
        "\n",
        "# Function to calculate MAPE while ignoring zero actual values\n",
        "def mean_absolute_percentage_error(y_true, y_pred):\n",
        "    y_true, y_pred = np.array(y_true), np.array(y_pred)\n",
        "    non_zero_indices = y_true != 0\n",
        "    y_true_non_zero = y_true[non_zero_indices]\n",
        "    y_pred_non_zero = y_pred[non_zero_indices]\n",
        "    mape = np.mean(np.abs((y_true_non_zero - y_pred_non_zero) / y_true_non_zero)) * 100\n",
        "    return mape\n",
        "\n",
        "test_mape = mean_absolute_percentage_error(y_test.flatten(), test_predictions.flatten())\n",
        "\n",
        "print(f'Window size: {window_size} hours for predicting next 1 hours')\n",
        "print(f'RMSE: {test_rmse}')\n",
        "print(f'MAE: {test_mae}')\n",
        "print(f'MAPE: {test_mape}%')\n",
        "print(f'R²: {test_r2}')"
      ],
      "metadata": {
        "colab": {
          "base_uri": "https://localhost:8080/"
        },
        "id": "f05SW0_GkoAA",
        "outputId": "9d7624b0-2f29-49c5-ea24-22c9b9524510"
      },
      "execution_count": null,
      "outputs": [
        {
          "output_type": "stream",
          "name": "stderr",
          "text": [
            "/usr/local/lib/python3.10/dist-packages/scikeras/wrappers.py:915: UserWarning: ``build_fn`` will be renamed to ``model`` in a future release, at which point use of ``build_fn`` will raise an Error instead.\n",
            "  X, y = self._initialize(X, y)\n",
            "/usr/local/lib/python3.10/dist-packages/scikeras/wrappers.py:915: UserWarning: ``build_fn`` will be renamed to ``model`` in a future release, at which point use of ``build_fn`` will raise an Error instead.\n",
            "  X, y = self._initialize(X, y)\n",
            "/usr/local/lib/python3.10/dist-packages/scikeras/wrappers.py:915: UserWarning: ``build_fn`` will be renamed to ``model`` in a future release, at which point use of ``build_fn`` will raise an Error instead.\n",
            "  X, y = self._initialize(X, y)\n",
            "/usr/local/lib/python3.10/dist-packages/scikeras/wrappers.py:915: UserWarning: ``build_fn`` will be renamed to ``model`` in a future release, at which point use of ``build_fn`` will raise an Error instead.\n",
            "  X, y = self._initialize(X, y)\n",
            "/usr/local/lib/python3.10/dist-packages/scikeras/wrappers.py:915: UserWarning: ``build_fn`` will be renamed to ``model`` in a future release, at which point use of ``build_fn`` will raise an Error instead.\n",
            "  X, y = self._initialize(X, y)\n",
            "/usr/local/lib/python3.10/dist-packages/scikeras/wrappers.py:915: UserWarning: ``build_fn`` will be renamed to ``model`` in a future release, at which point use of ``build_fn`` will raise an Error instead.\n",
            "  X, y = self._initialize(X, y)\n"
          ]
        },
        {
          "output_type": "stream",
          "name": "stdout",
          "text": [
            "Window size: 2 hours for predicting next 24 hours\n",
            "RMSE: 0.03337087251572352\n",
            "MAE: 0.02199939141956533\n",
            "MAPE: 27.69238550092411%\n",
            "R²: 0.8019531428603055\n"
          ]
        }
      ]
    },
    {
      "cell_type": "markdown",
      "source": [
        "# 6h-->1h"
      ],
      "metadata": {
        "id": "iGKSH9kos9zQ"
      }
    },
    {
      "cell_type": "code",
      "source": [
        "# Set window size to 6 hours to predict the next 1 hours\n",
        "window_size = 6\n",
        "X, y = create_sequences(df_pm2_5, window_size)\n",
        "\n",
        "# Split the data into 80% training and 20% testing\n",
        "X_train, X_test, y_train, y_test = train_test_split(X, y, test_size=0.2, random_state=42)\n",
        "\n",
        "# Build LSTM model function\n",
        "def build_model(units=32, activation='tanh', learning_rate=0.001):\n",
        "    model = Sequential()\n",
        "    model.add(LSTM(units=units, activation=activation, return_sequences=True, input_shape=(window_size, len(features))))\n",
        "    model.add(LSTM(units=units, activation=activation))\n",
        "    model.add(Dense(1))  # Output layer to predict the next 1 hours\n",
        "    optimizer = Adam(learning_rate=learning_rate)\n",
        "    model.compile(optimizer=optimizer, loss='mean_squared_error')\n",
        "    return model\n",
        "\n",
        "# Initialize Keras Regressor\n",
        "model = KerasRegressor(build_fn=build_model, epochs=20, batch_size=32, verbose=0)\n",
        "\n",
        "# KFold for cross-validation on the training set\n",
        "kf = KFold(n_splits=5)\n",
        "\n",
        "for train_index, val_index in kf.split(X_train):\n",
        "    X_train_fold, X_val_fold = X_train[train_index], X_train[val_index]\n",
        "    y_train_fold, y_val_fold = y_train[train_index], y_train[val_index]\n",
        "\n",
        "    model.fit(X_train_fold, y_train_fold)\n",
        "\n",
        "# Train the model on the entire training set\n",
        "model.fit(X_train, y_train)\n",
        "\n",
        "# Evaluate the model on the test set\n",
        "test_predictions = model.predict(X_test)\n",
        "test_rmse = np.sqrt(mean_squared_error(y_test.flatten(), test_predictions.flatten()))\n",
        "test_mae = mean_absolute_error(y_test.flatten(), test_predictions.flatten())\n",
        "test_r2 = r2_score(y_test.flatten(), test_predictions.flatten())\n",
        "\n",
        "# Function to calculate MAPE while ignoring zero actual values\n",
        "def mean_absolute_percentage_error(y_true, y_pred):\n",
        "    y_true, y_pred = np.array(y_true), np.array(y_pred)\n",
        "    non_zero_indices = y_true != 0\n",
        "    y_true_non_zero = y_true[non_zero_indices]\n",
        "    y_pred_non_zero = y_pred[non_zero_indices]\n",
        "    mape = np.mean(np.abs((y_true_non_zero - y_pred_non_zero) / y_true_non_zero)) * 100\n",
        "    return mape\n",
        "\n",
        "test_mape = mean_absolute_percentage_error(y_test.flatten(), test_predictions.flatten())\n",
        "\n",
        "print(f'Window size: {window_size} hours for predicting next 1 hours')\n",
        "print(f'RMSE: {test_rmse}')\n",
        "print(f'MAE: {test_mae}')\n",
        "print(f'MAPE: {test_mape}%')\n",
        "print(f'R²: {test_r2}')"
      ],
      "metadata": {
        "colab": {
          "base_uri": "https://localhost:8080/"
        },
        "id": "pqfCpRU0tG_T",
        "outputId": "4e74c5aa-6168-4c12-cbbf-b38e37f8a422"
      },
      "execution_count": null,
      "outputs": [
        {
          "output_type": "stream",
          "name": "stderr",
          "text": [
            "/usr/local/lib/python3.10/dist-packages/scikeras/wrappers.py:915: UserWarning: ``build_fn`` will be renamed to ``model`` in a future release, at which point use of ``build_fn`` will raise an Error instead.\n",
            "  X, y = self._initialize(X, y)\n",
            "/usr/local/lib/python3.10/dist-packages/scikeras/wrappers.py:915: UserWarning: ``build_fn`` will be renamed to ``model`` in a future release, at which point use of ``build_fn`` will raise an Error instead.\n",
            "  X, y = self._initialize(X, y)\n",
            "/usr/local/lib/python3.10/dist-packages/scikeras/wrappers.py:915: UserWarning: ``build_fn`` will be renamed to ``model`` in a future release, at which point use of ``build_fn`` will raise an Error instead.\n",
            "  X, y = self._initialize(X, y)\n",
            "/usr/local/lib/python3.10/dist-packages/scikeras/wrappers.py:915: UserWarning: ``build_fn`` will be renamed to ``model`` in a future release, at which point use of ``build_fn`` will raise an Error instead.\n",
            "  X, y = self._initialize(X, y)\n",
            "/usr/local/lib/python3.10/dist-packages/scikeras/wrappers.py:915: UserWarning: ``build_fn`` will be renamed to ``model`` in a future release, at which point use of ``build_fn`` will raise an Error instead.\n",
            "  X, y = self._initialize(X, y)\n",
            "/usr/local/lib/python3.10/dist-packages/scikeras/wrappers.py:915: UserWarning: ``build_fn`` will be renamed to ``model`` in a future release, at which point use of ``build_fn`` will raise an Error instead.\n",
            "  X, y = self._initialize(X, y)\n"
          ]
        },
        {
          "output_type": "stream",
          "name": "stdout",
          "text": [
            "Window size: 6 hours for predicting next 24 hours\n",
            "RMSE: 0.03472682728153939\n",
            "MAE: 0.02287791120945182\n",
            "MAPE: 28.352642058771394%\n",
            "R²: 0.7805966782090641\n"
          ]
        }
      ]
    },
    {
      "cell_type": "markdown",
      "source": [
        "# 12h-->1h"
      ],
      "metadata": {
        "id": "TkRxTaMkyjVV"
      }
    },
    {
      "cell_type": "code",
      "source": [
        "# Set window size to 12 hours to predict the next 1 hours\n",
        "window_size = 12\n",
        "X, y = create_sequences(df_pm2_5, window_size)\n",
        "\n",
        "# Split the data into 80% training and 20% testing\n",
        "X_train, X_test, y_train, y_test = train_test_split(X, y, test_size=0.2, random_state=42)\n",
        "\n",
        "# Build LSTM model function\n",
        "def build_model(units=32, activation='tanh', learning_rate=0.001):\n",
        "    model = Sequential()\n",
        "    model.add(LSTM(units=units, activation=activation, return_sequences=True, input_shape=(window_size, len(features))))\n",
        "    model.add(LSTM(units=units, activation=activation))\n",
        "    model.add(Dense(1))  # Output layer to predict the next 1 hours\n",
        "    optimizer = Adam(learning_rate=learning_rate)\n",
        "    model.compile(optimizer=optimizer, loss='mean_squared_error')\n",
        "    return model\n",
        "\n",
        "# Initialize Keras Regressor\n",
        "model = KerasRegressor(build_fn=build_model, epochs=20, batch_size=32, verbose=0)\n",
        "\n",
        "# KFold for cross-validation on the training set\n",
        "kf = KFold(n_splits=5)\n",
        "\n",
        "for train_index, val_index in kf.split(X_train):\n",
        "    X_train_fold, X_val_fold = X_train[train_index], X_train[val_index]\n",
        "    y_train_fold, y_val_fold = y_train[train_index], y_train[val_index]\n",
        "\n",
        "    model.fit(X_train_fold, y_train_fold)\n",
        "\n",
        "# Train the model on the entire training set\n",
        "model.fit(X_train, y_train)\n",
        "\n",
        "# Evaluate the model on the test set\n",
        "test_predictions = model.predict(X_test)\n",
        "test_rmse = np.sqrt(mean_squared_error(y_test.flatten(), test_predictions.flatten()))\n",
        "test_mae = mean_absolute_error(y_test.flatten(), test_predictions.flatten())\n",
        "test_r2 = r2_score(y_test.flatten(), test_predictions.flatten())\n",
        "\n",
        "# Function to calculate MAPE while ignoring zero actual values\n",
        "def mean_absolute_percentage_error(y_true, y_pred):\n",
        "    y_true, y_pred = np.array(y_true), np.array(y_pred)\n",
        "    non_zero_indices = y_true != 0\n",
        "    y_true_non_zero = y_true[non_zero_indices]\n",
        "    y_pred_non_zero = y_pred[non_zero_indices]\n",
        "    mape = np.mean(np.abs((y_true_non_zero - y_pred_non_zero) / y_true_non_zero)) * 100\n",
        "    return mape\n",
        "\n",
        "test_mape = mean_absolute_percentage_error(y_test.flatten(), test_predictions.flatten())\n",
        "\n",
        "print(f'Window size: {window_size} hours for predicting next 1 hours')\n",
        "print(f'RMSE: {test_rmse}')\n",
        "print(f'MAE: {test_mae}')\n",
        "print(f'MAPE: {test_mape}%')\n",
        "print(f'R²: {test_r2}')"
      ],
      "metadata": {
        "colab": {
          "base_uri": "https://localhost:8080/"
        },
        "id": "eCu71dRJyirJ",
        "outputId": "5dc6b3ab-1fe1-4666-9ed3-cadfd08c67c5"
      },
      "execution_count": null,
      "outputs": [
        {
          "output_type": "stream",
          "name": "stderr",
          "text": [
            "/usr/local/lib/python3.10/dist-packages/scikeras/wrappers.py:915: UserWarning: ``build_fn`` will be renamed to ``model`` in a future release, at which point use of ``build_fn`` will raise an Error instead.\n",
            "  X, y = self._initialize(X, y)\n",
            "/usr/local/lib/python3.10/dist-packages/scikeras/wrappers.py:915: UserWarning: ``build_fn`` will be renamed to ``model`` in a future release, at which point use of ``build_fn`` will raise an Error instead.\n",
            "  X, y = self._initialize(X, y)\n",
            "/usr/local/lib/python3.10/dist-packages/scikeras/wrappers.py:915: UserWarning: ``build_fn`` will be renamed to ``model`` in a future release, at which point use of ``build_fn`` will raise an Error instead.\n",
            "  X, y = self._initialize(X, y)\n",
            "/usr/local/lib/python3.10/dist-packages/scikeras/wrappers.py:915: UserWarning: ``build_fn`` will be renamed to ``model`` in a future release, at which point use of ``build_fn`` will raise an Error instead.\n",
            "  X, y = self._initialize(X, y)\n",
            "/usr/local/lib/python3.10/dist-packages/scikeras/wrappers.py:915: UserWarning: ``build_fn`` will be renamed to ``model`` in a future release, at which point use of ``build_fn`` will raise an Error instead.\n",
            "  X, y = self._initialize(X, y)\n",
            "/usr/local/lib/python3.10/dist-packages/scikeras/wrappers.py:915: UserWarning: ``build_fn`` will be renamed to ``model`` in a future release, at which point use of ``build_fn`` will raise an Error instead.\n",
            "  X, y = self._initialize(X, y)\n"
          ]
        },
        {
          "output_type": "stream",
          "name": "stdout",
          "text": [
            "Window size: 12 hours for predicting next 24 hours\n",
            "RMSE: 0.03228973648465195\n",
            "MAE: 0.021834354119690483\n",
            "MAPE: 31.912254611713063%\n",
            "R²: 0.8102209455209093\n"
          ]
        }
      ]
    },
    {
      "cell_type": "markdown",
      "source": [
        "# 24h-->1h"
      ],
      "metadata": {
        "id": "gOcYH7WC5XZz"
      }
    },
    {
      "cell_type": "code",
      "source": [
        "# Set window size to 24 hours to predict the next 1 hours\n",
        "window_size = 24\n",
        "X, y = create_sequences(df_pm2_5, window_size)\n",
        "\n",
        "# Split the data into 80% training and 20% testing\n",
        "X_train, X_test, y_train, y_test = train_test_split(X, y, test_size=0.2, random_state=42)\n",
        "\n",
        "# Build LSTM model function\n",
        "def build_model(units=32, activation='tanh', learning_rate=0.001):\n",
        "    model = Sequential()\n",
        "    model.add(LSTM(units=units, activation=activation, return_sequences=True, input_shape=(window_size, len(features))))\n",
        "    model.add(LSTM(units=units, activation=activation))\n",
        "    model.add(Dense(1))  # Output layer to predict the next 1 hours\n",
        "    optimizer = Adam(learning_rate=learning_rate)\n",
        "    model.compile(optimizer=optimizer, loss='mean_squared_error')\n",
        "    return model\n",
        "\n",
        "# Initialize Keras Regressor\n",
        "model = KerasRegressor(build_fn=build_model, epochs=20, batch_size=32, verbose=0)\n",
        "\n",
        "# KFold for cross-validation on the training set\n",
        "kf = KFold(n_splits=5)\n",
        "\n",
        "for train_index, val_index in kf.split(X_train):\n",
        "    X_train_fold, X_val_fold = X_train[train_index], X_train[val_index]\n",
        "    y_train_fold, y_val_fold = y_train[train_index], y_train[val_index]\n",
        "\n",
        "    model.fit(X_train_fold, y_train_fold)\n",
        "\n",
        "# Train the model on the entire training set\n",
        "model.fit(X_train, y_train)\n",
        "\n",
        "# Evaluate the model on the test set\n",
        "test_predictions = model.predict(X_test)\n",
        "test_rmse = np.sqrt(mean_squared_error(y_test.flatten(), test_predictions.flatten()))\n",
        "test_mae = mean_absolute_error(y_test.flatten(), test_predictions.flatten())\n",
        "test_r2 = r2_score(y_test.flatten(), test_predictions.flatten())\n",
        "\n",
        "# Function to calculate MAPE while ignoring zero actual values\n",
        "def mean_absolute_percentage_error(y_true, y_pred):\n",
        "    y_true, y_pred = np.array(y_true), np.array(y_pred)\n",
        "    non_zero_indices = y_true != 0\n",
        "    y_true_non_zero = y_true[non_zero_indices]\n",
        "    y_pred_non_zero = y_pred[non_zero_indices]\n",
        "    mape = np.mean(np.abs((y_true_non_zero - y_pred_non_zero) / y_true_non_zero)) * 100\n",
        "    return mape\n",
        "\n",
        "test_mape = mean_absolute_percentage_error(y_test.flatten(), test_predictions.flatten())\n",
        "\n",
        "print(f'Window size: {window_size} hours for predicting next 1 hours')\n",
        "print(f'RMSE: {test_rmse}')\n",
        "print(f'MAE: {test_mae}')\n",
        "print(f'MAPE: {test_mape}%')\n",
        "print(f'R²: {test_r2}')"
      ],
      "metadata": {
        "colab": {
          "base_uri": "https://localhost:8080/"
        },
        "id": "36DA_nXn5bTd",
        "outputId": "b9a33395-9c25-4db8-d4b8-7af2a0b9b205"
      },
      "execution_count": null,
      "outputs": [
        {
          "output_type": "stream",
          "name": "stderr",
          "text": [
            "/usr/local/lib/python3.10/dist-packages/scikeras/wrappers.py:915: UserWarning: ``build_fn`` will be renamed to ``model`` in a future release, at which point use of ``build_fn`` will raise an Error instead.\n",
            "  X, y = self._initialize(X, y)\n",
            "/usr/local/lib/python3.10/dist-packages/scikeras/wrappers.py:915: UserWarning: ``build_fn`` will be renamed to ``model`` in a future release, at which point use of ``build_fn`` will raise an Error instead.\n",
            "  X, y = self._initialize(X, y)\n",
            "/usr/local/lib/python3.10/dist-packages/scikeras/wrappers.py:915: UserWarning: ``build_fn`` will be renamed to ``model`` in a future release, at which point use of ``build_fn`` will raise an Error instead.\n",
            "  X, y = self._initialize(X, y)\n",
            "/usr/local/lib/python3.10/dist-packages/scikeras/wrappers.py:915: UserWarning: ``build_fn`` will be renamed to ``model`` in a future release, at which point use of ``build_fn`` will raise an Error instead.\n",
            "  X, y = self._initialize(X, y)\n",
            "/usr/local/lib/python3.10/dist-packages/scikeras/wrappers.py:915: UserWarning: ``build_fn`` will be renamed to ``model`` in a future release, at which point use of ``build_fn`` will raise an Error instead.\n",
            "  X, y = self._initialize(X, y)\n",
            "/usr/local/lib/python3.10/dist-packages/scikeras/wrappers.py:915: UserWarning: ``build_fn`` will be renamed to ``model`` in a future release, at which point use of ``build_fn`` will raise an Error instead.\n",
            "  X, y = self._initialize(X, y)\n"
          ]
        },
        {
          "output_type": "stream",
          "name": "stdout",
          "text": [
            "Window size: 24 hours for predicting next 24 hours\n",
            "RMSE: 0.031213173891853782\n",
            "MAE: 0.020819881685067196\n",
            "MAPE: 30.15799980363064%\n",
            "R²: 0.8243680739249014\n"
          ]
        }
      ]
    },
    {
      "cell_type": "markdown",
      "source": [
        "## 2 hours"
      ],
      "metadata": {
        "id": "4gfKcd6Hvni0"
      }
    },
    {
      "cell_type": "markdown",
      "source": [
        "### 64"
      ],
      "metadata": {
        "id": "FGI81wiDwbqI"
      }
    },
    {
      "cell_type": "code",
      "source": [
        "# Set window size to 2 hours to predict the next 1 hours\n",
        "window_size = 2\n",
        "X, y = create_sequences(df_pm2_5, window_size)\n",
        "\n",
        "# Split the data into 80% training and 20% testing\n",
        "X_train, X_test, y_train, y_test = train_test_split(X, y, test_size=0.2, random_state=42)\n",
        "\n",
        "# Build LSTM model function\n",
        "def build_model(units=64, activation='tanh', learning_rate=0.001):\n",
        "    model = Sequential()\n",
        "    model.add(LSTM(units=units, activation=activation, return_sequences=True, input_shape=(window_size, len(features))))\n",
        "    model.add(LSTM(units=units, activation=activation))\n",
        "    model.add(Dense(1))  # Output layer to predict the next 1 hours\n",
        "    optimizer = Adam(learning_rate=learning_rate)\n",
        "    model.compile(optimizer=optimizer, loss='mean_squared_error')\n",
        "    return model\n",
        "\n",
        "# Initialize Keras Regressor\n",
        "model = KerasRegressor(build_fn=build_model, epochs=20, batch_size=32, verbose=0)\n",
        "\n",
        "# KFold for cross-validation on the training set\n",
        "kf = KFold(n_splits=5)\n",
        "\n",
        "for train_index, val_index in kf.split(X_train):\n",
        "    X_train_fold, X_val_fold = X_train[train_index], X_train[val_index]\n",
        "    y_train_fold, y_val_fold = y_train[train_index], y_train[val_index]\n",
        "\n",
        "    model.fit(X_train_fold, y_train_fold)\n",
        "\n",
        "# Train the model on the entire training set\n",
        "model.fit(X_train, y_train)\n",
        "\n",
        "# Evaluate the model on the test set\n",
        "test_predictions = model.predict(X_test)\n",
        "test_rmse = np.sqrt(mean_squared_error(y_test.flatten(), test_predictions.flatten()))\n",
        "test_mae = mean_absolute_error(y_test.flatten(), test_predictions.flatten())\n",
        "test_r2 = r2_score(y_test.flatten(), test_predictions.flatten())\n",
        "\n",
        "# Function to calculate MAPE while ignoring zero actual values\n",
        "def mean_absolute_percentage_error(y_true, y_pred):\n",
        "    y_true, y_pred = np.array(y_true), np.array(y_pred)\n",
        "    non_zero_indices = y_true != 0\n",
        "    y_true_non_zero = y_true[non_zero_indices]\n",
        "    y_pred_non_zero = y_pred[non_zero_indices]\n",
        "    mape = np.mean(np.abs((y_true_non_zero - y_pred_non_zero) / y_true_non_zero)) * 100\n",
        "    return mape\n",
        "\n",
        "test_mape = mean_absolute_percentage_error(y_test.flatten(), test_predictions.flatten())\n",
        "\n",
        "print(f'Window size: {window_size} hours for predicting next 1 hours')\n",
        "print(f'RMSE: {test_rmse}')\n",
        "print(f'MAE: {test_mae}')\n",
        "print(f'MAPE: {test_mape}%')\n",
        "print(f'R²: {test_r2}')"
      ],
      "metadata": {
        "colab": {
          "base_uri": "https://localhost:8080/"
        },
        "id": "5BGgpyvxwYMG",
        "outputId": "59be9205-87c3-4473-80d6-7080ff4d8d73"
      },
      "execution_count": null,
      "outputs": [
        {
          "metadata": {
            "tags": null
          },
          "name": "stderr",
          "output_type": "stream",
          "text": [
            "/usr/local/lib/python3.10/dist-packages/scikeras/wrappers.py:915: UserWarning: ``build_fn`` will be renamed to ``model`` in a future release, at which point use of ``build_fn`` will raise an Error instead.\n",
            "  X, y = self._initialize(X, y)\n",
            "/usr/local/lib/python3.10/dist-packages/scikeras/wrappers.py:915: UserWarning: ``build_fn`` will be renamed to ``model`` in a future release, at which point use of ``build_fn`` will raise an Error instead.\n",
            "  X, y = self._initialize(X, y)\n",
            "/usr/local/lib/python3.10/dist-packages/scikeras/wrappers.py:915: UserWarning: ``build_fn`` will be renamed to ``model`` in a future release, at which point use of ``build_fn`` will raise an Error instead.\n",
            "  X, y = self._initialize(X, y)\n",
            "/usr/local/lib/python3.10/dist-packages/scikeras/wrappers.py:915: UserWarning: ``build_fn`` will be renamed to ``model`` in a future release, at which point use of ``build_fn`` will raise an Error instead.\n",
            "  X, y = self._initialize(X, y)\n",
            "/usr/local/lib/python3.10/dist-packages/scikeras/wrappers.py:915: UserWarning: ``build_fn`` will be renamed to ``model`` in a future release, at which point use of ``build_fn`` will raise an Error instead.\n",
            "  X, y = self._initialize(X, y)\n",
            "/usr/local/lib/python3.10/dist-packages/scikeras/wrappers.py:915: UserWarning: ``build_fn`` will be renamed to ``model`` in a future release, at which point use of ``build_fn`` will raise an Error instead.\n",
            "  X, y = self._initialize(X, y)\n"
          ]
        },
        {
          "output_type": "stream",
          "name": "stdout",
          "text": [
            "Window size: 2 hours for predicting next 1 hours\n",
            "RMSE: 0.03286165053386043\n",
            "MAE: 0.021833923355425593\n",
            "MAPE: 30.54032278160769%\n",
            "R²: 0.8079512093157819\n"
          ]
        }
      ]
    },
    {
      "cell_type": "markdown",
      "source": [
        "## 128"
      ],
      "metadata": {
        "id": "xjpo2hVk0fUj"
      }
    },
    {
      "cell_type": "code",
      "source": [
        "# Set window size to 2 hours to predict the next 1 hours\n",
        "window_size = 2\n",
        "X, y = create_sequences(df_pm2_5, window_size)\n",
        "\n",
        "# Split the data into 80% training and 20% testing\n",
        "X_train, X_test, y_train, y_test = train_test_split(X, y, test_size=0.2, random_state=42)\n",
        "\n",
        "# Build LSTM model function\n",
        "def build_model(units=128, activation='tanh', learning_rate=0.001):\n",
        "    model = Sequential()\n",
        "    model.add(LSTM(units=units, activation=activation, return_sequences=True, input_shape=(window_size, len(features))))\n",
        "    model.add(LSTM(units=units, activation=activation))\n",
        "    model.add(Dense(1))  # Output layer to predict the next 1 hours\n",
        "    optimizer = Adam(learning_rate=learning_rate)\n",
        "    model.compile(optimizer=optimizer, loss='mean_squared_error')\n",
        "    return model\n",
        "\n",
        "# Initialize Keras Regressor\n",
        "model = KerasRegressor(build_fn=build_model, epochs=20, batch_size=32, verbose=0)\n",
        "\n",
        "# KFold for cross-validation on the training set\n",
        "kf = KFold(n_splits=5)\n",
        "\n",
        "for train_index, val_index in kf.split(X_train):\n",
        "    X_train_fold, X_val_fold = X_train[train_index], X_train[val_index]\n",
        "    y_train_fold, y_val_fold = y_train[train_index], y_train[val_index]\n",
        "\n",
        "    model.fit(X_train_fold, y_train_fold)\n",
        "\n",
        "# Train the model on the entire training set\n",
        "model.fit(X_train, y_train)\n",
        "\n",
        "# Evaluate the model on the test set\n",
        "test_predictions = model.predict(X_test)\n",
        "test_rmse = np.sqrt(mean_squared_error(y_test.flatten(), test_predictions.flatten()))\n",
        "test_mae = mean_absolute_error(y_test.flatten(), test_predictions.flatten())\n",
        "test_r2 = r2_score(y_test.flatten(), test_predictions.flatten())\n",
        "\n",
        "# Function to calculate MAPE while ignoring zero actual values\n",
        "def mean_absolute_percentage_error(y_true, y_pred):\n",
        "    y_true, y_pred = np.array(y_true), np.array(y_pred)\n",
        "    non_zero_indices = y_true != 0\n",
        "    y_true_non_zero = y_true[non_zero_indices]\n",
        "    y_pred_non_zero = y_pred[non_zero_indices]\n",
        "    mape = np.mean(np.abs((y_true_non_zero - y_pred_non_zero) / y_true_non_zero)) * 100\n",
        "    return mape\n",
        "\n",
        "test_mape = mean_absolute_percentage_error(y_test.flatten(), test_predictions.flatten())\n",
        "\n",
        "print(f'Window size: {window_size} hours for predicting next 1 hours')\n",
        "print(f'RMSE: {test_rmse}')\n",
        "print(f'MAE: {test_mae}')\n",
        "print(f'MAPE: {test_mape}%')\n",
        "print(f'R²: {test_r2}')"
      ],
      "metadata": {
        "colab": {
          "base_uri": "https://localhost:8080/"
        },
        "id": "gNBFlBXC0enp",
        "outputId": "2a815ad6-4a51-4007-f83e-9f2e5ec57869"
      },
      "execution_count": null,
      "outputs": [
        {
          "output_type": "stream",
          "name": "stderr",
          "text": [
            "/usr/local/lib/python3.10/dist-packages/scikeras/wrappers.py:915: UserWarning: ``build_fn`` will be renamed to ``model`` in a future release, at which point use of ``build_fn`` will raise an Error instead.\n",
            "  X, y = self._initialize(X, y)\n",
            "/usr/local/lib/python3.10/dist-packages/scikeras/wrappers.py:915: UserWarning: ``build_fn`` will be renamed to ``model`` in a future release, at which point use of ``build_fn`` will raise an Error instead.\n",
            "  X, y = self._initialize(X, y)\n",
            "/usr/local/lib/python3.10/dist-packages/scikeras/wrappers.py:915: UserWarning: ``build_fn`` will be renamed to ``model`` in a future release, at which point use of ``build_fn`` will raise an Error instead.\n",
            "  X, y = self._initialize(X, y)\n",
            "/usr/local/lib/python3.10/dist-packages/scikeras/wrappers.py:915: UserWarning: ``build_fn`` will be renamed to ``model`` in a future release, at which point use of ``build_fn`` will raise an Error instead.\n",
            "  X, y = self._initialize(X, y)\n",
            "/usr/local/lib/python3.10/dist-packages/scikeras/wrappers.py:915: UserWarning: ``build_fn`` will be renamed to ``model`` in a future release, at which point use of ``build_fn`` will raise an Error instead.\n",
            "  X, y = self._initialize(X, y)\n",
            "/usr/local/lib/python3.10/dist-packages/scikeras/wrappers.py:915: UserWarning: ``build_fn`` will be renamed to ``model`` in a future release, at which point use of ``build_fn`` will raise an Error instead.\n",
            "  X, y = self._initialize(X, y)\n"
          ]
        },
        {
          "output_type": "stream",
          "name": "stdout",
          "text": [
            "Window size: 2 hours for predicting next 1 hours\n",
            "RMSE: 0.03298610018712318\n",
            "MAE: 0.021737055381694546\n",
            "MAPE: 28.85720861991008%\n",
            "R²: 0.8064938472309192\n"
          ]
        }
      ]
    },
    {
      "cell_type": "markdown",
      "source": [
        "# The next day"
      ],
      "metadata": {
        "id": "aRdIogqT-Ws-"
      }
    },
    {
      "cell_type": "code",
      "source": [
        "df_pm2_5 = pd.read_csv('/content/drive/My Drive/df_pm2_5.csv')"
      ],
      "metadata": {
        "id": "iJt6RmZp-YzW"
      },
      "execution_count": null,
      "outputs": []
    },
    {
      "cell_type": "code",
      "source": [
        "# Create target variable shifted by 24 hours\n",
        "df_pm2_5['target'] = df_pm2_5['pm2.5'].shift(-24)\n",
        "\n",
        "# Drop rows with NaN target values due to shifting\n",
        "df_pm2_5.dropna(inplace=True)\n",
        "\n",
        "# Select features\n",
        "features = ['code_encoded', 'pm2.5', 'ws', 'wd', 'air_temp']\n",
        "\n",
        "# Function to create sequences for LSTM input\n",
        "def create_sequences(df, window_size):\n",
        "    X, y = [], []\n",
        "    for i in range(len(df) - window_size - 24 + 1):\n",
        "        X.append(df.iloc[i:i + window_size][features].values)\n",
        "        y.append(df.iloc[i + window_size:i + window_size + 24]['target'].values)\n",
        "    return np.array(X), np.array(y)"
      ],
      "metadata": {
        "id": "knN9bDXv-2rQ"
      },
      "execution_count": null,
      "outputs": []
    },
    {
      "cell_type": "markdown",
      "source": [
        "# 12h-->24h"
      ],
      "metadata": {
        "id": "ldVisj8A-fox"
      }
    },
    {
      "cell_type": "code",
      "source": [
        "# Set window size to 12 hours to predict the next 24 hours\n",
        "window_size = 12\n",
        "X, y = create_sequences(df_pm2_5, window_size)\n",
        "\n",
        "# Split the data into 80% training and 20% testing\n",
        "X_train, X_test, y_train, y_test = train_test_split(X, y, test_size=0.2, random_state=42)\n",
        "\n",
        "# Build LSTM model function\n",
        "def build_model(units=32, activation='tanh', learning_rate=0.001):\n",
        "    model = Sequential()\n",
        "    model.add(LSTM(units=units, activation=activation, return_sequences=True, input_shape=(window_size, len(features))))\n",
        "    model.add(LSTM(units=units, activation=activation))\n",
        "    model.add(Dense(24))  # Output layer to predict the next 24 hours\n",
        "    optimizer = Adam(learning_rate=learning_rate)\n",
        "    model.compile(optimizer=optimizer, loss='mean_squared_error')\n",
        "    return model\n",
        "\n",
        "# Initialize Keras Regressor\n",
        "model = KerasRegressor(build_fn=build_model, epochs=20, batch_size=32, verbose=0)\n",
        "\n",
        "# KFold for cross-validation on the training set\n",
        "kf = KFold(n_splits=5)\n",
        "\n",
        "for train_index, val_index in kf.split(X_train):\n",
        "    X_train_fold, X_val_fold = X_train[train_index], X_train[val_index]\n",
        "    y_train_fold, y_val_fold = y_train[train_index], y_train[val_index]\n",
        "\n",
        "    model.fit(X_train_fold, y_train_fold)\n",
        "\n",
        "# Train the model on the entire training set\n",
        "model.fit(X_train, y_train)\n",
        "\n",
        "# Evaluate the model on the test set\n",
        "test_predictions = model.predict(X_test)\n",
        "test_rmse = np.sqrt(mean_squared_error(y_test.flatten(), test_predictions.flatten()))\n",
        "test_mae = mean_absolute_error(y_test.flatten(), test_predictions.flatten())\n",
        "test_r2 = r2_score(y_test.flatten(), test_predictions.flatten())\n",
        "\n",
        "# Function to calculate MAPE while ignoring zero actual values\n",
        "def mean_absolute_percentage_error(y_true, y_pred):\n",
        "    y_true, y_pred = np.array(y_true), np.array(y_pred)\n",
        "    non_zero_indices = y_true != 0\n",
        "    y_true_non_zero = y_true[non_zero_indices]\n",
        "    y_pred_non_zero = y_pred[non_zero_indices]\n",
        "    mape = np.mean(np.abs((y_true_non_zero - y_pred_non_zero) / y_true_non_zero)) * 100\n",
        "    return mape\n",
        "\n",
        "test_mape = mean_absolute_percentage_error(y_test.flatten(), test_predictions.flatten())\n",
        "\n",
        "print(f'Window size: {window_size} hours for predicting next 24 hours')\n",
        "print(f'RMSE: {test_rmse}')\n",
        "print(f'MAE: {test_mae}')\n",
        "print(f'MAPE: {test_mape}%')\n",
        "print(f'R²: {test_r2}')"
      ],
      "metadata": {
        "colab": {
          "base_uri": "https://localhost:8080/"
        },
        "id": "V-vwIsf0-h13",
        "outputId": "86692790-ad8e-48d1-d97a-33777e46e944"
      },
      "execution_count": null,
      "outputs": [
        {
          "output_type": "stream",
          "name": "stderr",
          "text": [
            "/usr/local/lib/python3.10/dist-packages/scikeras/wrappers.py:915: UserWarning: ``build_fn`` will be renamed to ``model`` in a future release, at which point use of ``build_fn`` will raise an Error instead.\n",
            "  X, y = self._initialize(X, y)\n",
            "/usr/local/lib/python3.10/dist-packages/scikeras/wrappers.py:915: UserWarning: ``build_fn`` will be renamed to ``model`` in a future release, at which point use of ``build_fn`` will raise an Error instead.\n",
            "  X, y = self._initialize(X, y)\n",
            "/usr/local/lib/python3.10/dist-packages/scikeras/wrappers.py:915: UserWarning: ``build_fn`` will be renamed to ``model`` in a future release, at which point use of ``build_fn`` will raise an Error instead.\n",
            "  X, y = self._initialize(X, y)\n",
            "/usr/local/lib/python3.10/dist-packages/scikeras/wrappers.py:915: UserWarning: ``build_fn`` will be renamed to ``model`` in a future release, at which point use of ``build_fn`` will raise an Error instead.\n",
            "  X, y = self._initialize(X, y)\n",
            "/usr/local/lib/python3.10/dist-packages/scikeras/wrappers.py:915: UserWarning: ``build_fn`` will be renamed to ``model`` in a future release, at which point use of ``build_fn`` will raise an Error instead.\n",
            "  X, y = self._initialize(X, y)\n",
            "/usr/local/lib/python3.10/dist-packages/scikeras/wrappers.py:915: UserWarning: ``build_fn`` will be renamed to ``model`` in a future release, at which point use of ``build_fn`` will raise an Error instead.\n",
            "  X, y = self._initialize(X, y)\n"
          ]
        },
        {
          "output_type": "stream",
          "name": "stdout",
          "text": [
            "Window size: 12 hours for predicting next 24 hours\n",
            "RMSE: 0.061191663186485556\n",
            "MAE: 0.04201322599817519\n",
            "MAPE: 71.02866654055367%\n",
            "R²: 0.32274267642899057\n"
          ]
        }
      ]
    },
    {
      "cell_type": "markdown",
      "source": [
        "## 36h-->24h"
      ],
      "metadata": {
        "id": "KActrWgEU2L2"
      }
    },
    {
      "cell_type": "code",
      "source": [
        "# Set window size to 36 hours to predict the next 24 hours\n",
        "window_size = 36\n",
        "X, y = create_sequences(df_pm2_5, window_size)\n",
        "\n",
        "# Split the data into 80% training and 20% testing\n",
        "X_train, X_test, y_train, y_test = train_test_split(X, y, test_size=0.2, random_state=42)\n",
        "\n",
        "# Build LSTM model function\n",
        "def build_model(units=32, activation='tanh', learning_rate=0.001):\n",
        "    model = Sequential()\n",
        "    model.add(LSTM(units=units, activation=activation, return_sequences=True, input_shape=(window_size, len(features))))\n",
        "    model.add(LSTM(units=units, activation=activation))\n",
        "    model.add(Dense(24))  # Output layer to predict the next 24 hours\n",
        "    optimizer = Adam(learning_rate=learning_rate)\n",
        "    model.compile(optimizer=optimizer, loss='mean_squared_error')\n",
        "    return model\n",
        "\n",
        "# Initialize Keras Regressor\n",
        "model = KerasRegressor(build_fn=build_model, epochs=20, batch_size=32, verbose=0)\n",
        "\n",
        "# KFold for cross-validation on the training set\n",
        "kf = KFold(n_splits=5)\n",
        "\n",
        "for train_index, val_index in kf.split(X_train):\n",
        "    X_train_fold, X_val_fold = X_train[train_index], X_train[val_index]\n",
        "    y_train_fold, y_val_fold = y_train[train_index], y_train[val_index]\n",
        "\n",
        "    model.fit(X_train_fold, y_train_fold)\n",
        "\n",
        "# Train the model on the entire training set\n",
        "model.fit(X_train, y_train)\n",
        "\n",
        "# Evaluate the model on the test set\n",
        "test_predictions = model.predict(X_test)\n",
        "test_rmse = np.sqrt(mean_squared_error(y_test.flatten(), test_predictions.flatten()))\n",
        "test_mae = mean_absolute_error(y_test.flatten(), test_predictions.flatten())\n",
        "test_r2 = r2_score(y_test.flatten(), test_predictions.flatten())\n",
        "\n",
        "# Function to calculate MAPE while ignoring zero actual values\n",
        "def mean_absolute_percentage_error(y_true, y_pred):\n",
        "    y_true, y_pred = np.array(y_true), np.array(y_pred)\n",
        "    non_zero_indices = y_true != 0\n",
        "    y_true_non_zero = y_true[non_zero_indices]\n",
        "    y_pred_non_zero = y_pred[non_zero_indices]\n",
        "    mape = np.mean(np.abs((y_true_non_zero - y_pred_non_zero) / y_true_non_zero)) * 100\n",
        "    return mape\n",
        "\n",
        "test_mape = mean_absolute_percentage_error(y_test.flatten(), test_predictions.flatten())\n",
        "\n",
        "print(f'Window size: {window_size} hours for predicting next 24 hours')\n",
        "print(f'RMSE: {test_rmse}')\n",
        "print(f'MAE: {test_mae}')\n",
        "print(f'MAPE: {test_mape}%')\n",
        "print(f'R²: {test_r2}')"
      ],
      "metadata": {
        "colab": {
          "base_uri": "https://localhost:8080/"
        },
        "id": "AN3ZnGwTU5WT",
        "outputId": "291a1266-7aea-43af-bc70-9f3efeb7b618"
      },
      "execution_count": null,
      "outputs": [
        {
          "output_type": "stream",
          "name": "stderr",
          "text": [
            "/usr/local/lib/python3.10/dist-packages/scikeras/wrappers.py:915: UserWarning: ``build_fn`` will be renamed to ``model`` in a future release, at which point use of ``build_fn`` will raise an Error instead.\n",
            "  X, y = self._initialize(X, y)\n",
            "/usr/local/lib/python3.10/dist-packages/scikeras/wrappers.py:915: UserWarning: ``build_fn`` will be renamed to ``model`` in a future release, at which point use of ``build_fn`` will raise an Error instead.\n",
            "  X, y = self._initialize(X, y)\n",
            "/usr/local/lib/python3.10/dist-packages/scikeras/wrappers.py:915: UserWarning: ``build_fn`` will be renamed to ``model`` in a future release, at which point use of ``build_fn`` will raise an Error instead.\n",
            "  X, y = self._initialize(X, y)\n",
            "/usr/local/lib/python3.10/dist-packages/scikeras/wrappers.py:915: UserWarning: ``build_fn`` will be renamed to ``model`` in a future release, at which point use of ``build_fn`` will raise an Error instead.\n",
            "  X, y = self._initialize(X, y)\n",
            "/usr/local/lib/python3.10/dist-packages/scikeras/wrappers.py:915: UserWarning: ``build_fn`` will be renamed to ``model`` in a future release, at which point use of ``build_fn`` will raise an Error instead.\n",
            "  X, y = self._initialize(X, y)\n",
            "/usr/local/lib/python3.10/dist-packages/scikeras/wrappers.py:915: UserWarning: ``build_fn`` will be renamed to ``model`` in a future release, at which point use of ``build_fn`` will raise an Error instead.\n",
            "  X, y = self._initialize(X, y)\n"
          ]
        },
        {
          "output_type": "stream",
          "name": "stdout",
          "text": [
            "Window size: 36 hours for predicting next 24 hours\n",
            "RMSE: 0.05086695209465317\n",
            "MAE: 0.036853126806417225\n",
            "MAPE: 62.719386291834%\n",
            "R²: 0.5528697458275644\n"
          ]
        }
      ]
    },
    {
      "cell_type": "markdown",
      "source": [
        "## 48h-->24h"
      ],
      "metadata": {
        "id": "jtt0wW6DlPb2"
      }
    },
    {
      "cell_type": "code",
      "source": [
        "# Set window size to 48 hours to predict the next 24 hours\n",
        "window_size = 48\n",
        "X, y = create_sequences(df_pm2_5, window_size)\n",
        "\n",
        "# Split the data into 80% training and 20% testing\n",
        "X_train, X_test, y_train, y_test = train_test_split(X, y, test_size=0.2, random_state=42)\n",
        "\n",
        "# Build LSTM model function\n",
        "def build_model(units=32, activation='tanh', learning_rate=0.001):\n",
        "    model = Sequential()\n",
        "    model.add(LSTM(units=units, activation=activation, return_sequences=True, input_shape=(window_size, len(features))))\n",
        "    model.add(LSTM(units=units, activation=activation))\n",
        "    model.add(Dense(24))  # Output layer to predict the next 24 hours\n",
        "    optimizer = Adam(learning_rate=learning_rate)\n",
        "    model.compile(optimizer=optimizer, loss='mean_squared_error')\n",
        "    return model\n",
        "\n",
        "# Initialize Keras Regressor\n",
        "model = KerasRegressor(build_fn=build_model, epochs=20, batch_size=32, verbose=0)\n",
        "\n",
        "# KFold for cross-validation on the training set\n",
        "kf = KFold(n_splits=5)\n",
        "\n",
        "for train_index, val_index in kf.split(X_train):\n",
        "    X_train_fold, X_val_fold = X_train[train_index], X_train[val_index]\n",
        "    y_train_fold, y_val_fold = y_train[train_index], y_train[val_index]\n",
        "\n",
        "    model.fit(X_train_fold, y_train_fold)\n",
        "\n",
        "# Train the model on the entire training set\n",
        "model.fit(X_train, y_train)\n",
        "\n",
        "# Evaluate the model on the test set\n",
        "test_predictions = model.predict(X_test)\n",
        "test_rmse = np.sqrt(mean_squared_error(y_test.flatten(), test_predictions.flatten()))\n",
        "test_mae = mean_absolute_error(y_test.flatten(), test_predictions.flatten())\n",
        "test_r2 = r2_score(y_test.flatten(), test_predictions.flatten())\n",
        "\n",
        "# Function to calculate MAPE while ignoring zero actual values\n",
        "def mean_absolute_percentage_error(y_true, y_pred):\n",
        "    y_true, y_pred = np.array(y_true), np.array(y_pred)\n",
        "    non_zero_indices = y_true != 0\n",
        "    y_true_non_zero = y_true[non_zero_indices]\n",
        "    y_pred_non_zero = y_pred[non_zero_indices]\n",
        "    mape = np.mean(np.abs((y_true_non_zero - y_pred_non_zero) / y_true_non_zero)) * 100\n",
        "    return mape\n",
        "\n",
        "test_mape = mean_absolute_percentage_error(y_test.flatten(), test_predictions.flatten())\n",
        "\n",
        "print(f'Window size: {window_size} hours for predicting next 24 hours')\n",
        "print(f'RMSE: {test_rmse}')\n",
        "print(f'MAE: {test_mae}')\n",
        "print(f'MAPE: {test_mape}%')\n",
        "print(f'R²: {test_r2}')"
      ],
      "metadata": {
        "colab": {
          "base_uri": "https://localhost:8080/"
        },
        "id": "Lw7z5g-slSo-",
        "outputId": "f3f65cb1-72ec-4914-b56d-47a868c6ad81"
      },
      "execution_count": null,
      "outputs": [
        {
          "output_type": "stream",
          "name": "stderr",
          "text": [
            "/usr/local/lib/python3.10/dist-packages/scikeras/wrappers.py:915: UserWarning: ``build_fn`` will be renamed to ``model`` in a future release, at which point use of ``build_fn`` will raise an Error instead.\n",
            "  X, y = self._initialize(X, y)\n",
            "/usr/local/lib/python3.10/dist-packages/scikeras/wrappers.py:915: UserWarning: ``build_fn`` will be renamed to ``model`` in a future release, at which point use of ``build_fn`` will raise an Error instead.\n",
            "  X, y = self._initialize(X, y)\n",
            "/usr/local/lib/python3.10/dist-packages/scikeras/wrappers.py:915: UserWarning: ``build_fn`` will be renamed to ``model`` in a future release, at which point use of ``build_fn`` will raise an Error instead.\n",
            "  X, y = self._initialize(X, y)\n",
            "/usr/local/lib/python3.10/dist-packages/scikeras/wrappers.py:915: UserWarning: ``build_fn`` will be renamed to ``model`` in a future release, at which point use of ``build_fn`` will raise an Error instead.\n",
            "  X, y = self._initialize(X, y)\n",
            "/usr/local/lib/python3.10/dist-packages/scikeras/wrappers.py:915: UserWarning: ``build_fn`` will be renamed to ``model`` in a future release, at which point use of ``build_fn`` will raise an Error instead.\n",
            "  X, y = self._initialize(X, y)\n",
            "/usr/local/lib/python3.10/dist-packages/scikeras/wrappers.py:915: UserWarning: ``build_fn`` will be renamed to ``model`` in a future release, at which point use of ``build_fn`` will raise an Error instead.\n",
            "  X, y = self._initialize(X, y)\n"
          ]
        },
        {
          "output_type": "stream",
          "name": "stdout",
          "text": [
            "Window size: 48 hours for predicting next 24 hours\n",
            "RMSE: 0.04902679399662823\n",
            "MAE: 0.034819696087314174\n",
            "MAPE: 54.97733442950074%\n",
            "R²: 0.5840300606934559\n"
          ]
        }
      ]
    },
    {
      "cell_type": "markdown",
      "source": [
        "# 48h"
      ],
      "metadata": {
        "id": "v8T1S6J86kKO"
      }
    },
    {
      "cell_type": "markdown",
      "source": [
        "## 64unites"
      ],
      "metadata": {
        "id": "dzPhqMFH6lu0"
      }
    },
    {
      "cell_type": "code",
      "source": [
        "# Set window size to 48 hours to predict the next 24 hours\n",
        "window_size = 48\n",
        "X, y = create_sequences(df_pm2_5, window_size)\n",
        "\n",
        "# Split the data into 80% training and 20% testing\n",
        "X_train, X_test, y_train, y_test = train_test_split(X, y, test_size=0.2, random_state=42)\n",
        "\n",
        "# Build LSTM model function\n",
        "def build_model(units=64, activation='tanh', learning_rate=0.001):\n",
        "    model = Sequential()\n",
        "    model.add(LSTM(units=units, activation=activation, return_sequences=True, input_shape=(window_size, len(features))))\n",
        "    model.add(LSTM(units=units, activation=activation))\n",
        "    model.add(Dense(24))  # Output layer to predict the next 24 hours\n",
        "    optimizer = Adam(learning_rate=learning_rate)\n",
        "    model.compile(optimizer=optimizer, loss='mean_squared_error')\n",
        "    return model\n",
        "\n",
        "# Initialize Keras Regressor\n",
        "model = KerasRegressor(build_fn=build_model, epochs=20, batch_size=32, verbose=0)\n",
        "\n",
        "# KFold for cross-validation on the training set\n",
        "kf = KFold(n_splits=5)\n",
        "\n",
        "for train_index, val_index in kf.split(X_train):\n",
        "    X_train_fold, X_val_fold = X_train[train_index], X_train[val_index]\n",
        "    y_train_fold, y_val_fold = y_train[train_index], y_train[val_index]\n",
        "\n",
        "    model.fit(X_train_fold, y_train_fold)\n",
        "\n",
        "# Train the model on the entire training set\n",
        "model.fit(X_train, y_train)\n",
        "\n",
        "# Evaluate the model on the test set\n",
        "test_predictions = model.predict(X_test)\n",
        "test_rmse = np.sqrt(mean_squared_error(y_test.flatten(), test_predictions.flatten()))\n",
        "test_mae = mean_absolute_error(y_test.flatten(), test_predictions.flatten())\n",
        "test_r2 = r2_score(y_test.flatten(), test_predictions.flatten())\n",
        "\n",
        "# Function to calculate MAPE while ignoring zero actual values\n",
        "def mean_absolute_percentage_error(y_true, y_pred):\n",
        "    y_true, y_pred = np.array(y_true), np.array(y_pred)\n",
        "    non_zero_indices = y_true != 0\n",
        "    y_true_non_zero = y_true[non_zero_indices]\n",
        "    y_pred_non_zero = y_pred[non_zero_indices]\n",
        "    mape = np.mean(np.abs((y_true_non_zero - y_pred_non_zero) / y_true_non_zero)) * 100\n",
        "    return mape\n",
        "\n",
        "test_mape = mean_absolute_percentage_error(y_test.flatten(), test_predictions.flatten())\n",
        "\n",
        "print(f'Window size: {window_size} hours for predicting next 24 hours')\n",
        "print(f'RMSE: {test_rmse}')\n",
        "print(f'MAE: {test_mae}')\n",
        "print(f'MAPE: {test_mape}%')\n",
        "print(f'R²: {test_r2}')"
      ],
      "metadata": {
        "colab": {
          "base_uri": "https://localhost:8080/"
        },
        "id": "Mp67edCl6noV",
        "outputId": "0cfe5d6b-a7c6-46fd-f729-c04cdce1210d"
      },
      "execution_count": null,
      "outputs": [
        {
          "output_type": "stream",
          "name": "stderr",
          "text": [
            "/usr/local/lib/python3.10/dist-packages/scikeras/wrappers.py:915: UserWarning: ``build_fn`` will be renamed to ``model`` in a future release, at which point use of ``build_fn`` will raise an Error instead.\n",
            "  X, y = self._initialize(X, y)\n",
            "/usr/local/lib/python3.10/dist-packages/scikeras/wrappers.py:915: UserWarning: ``build_fn`` will be renamed to ``model`` in a future release, at which point use of ``build_fn`` will raise an Error instead.\n",
            "  X, y = self._initialize(X, y)\n",
            "/usr/local/lib/python3.10/dist-packages/scikeras/wrappers.py:915: UserWarning: ``build_fn`` will be renamed to ``model`` in a future release, at which point use of ``build_fn`` will raise an Error instead.\n",
            "  X, y = self._initialize(X, y)\n",
            "/usr/local/lib/python3.10/dist-packages/scikeras/wrappers.py:915: UserWarning: ``build_fn`` will be renamed to ``model`` in a future release, at which point use of ``build_fn`` will raise an Error instead.\n",
            "  X, y = self._initialize(X, y)\n",
            "/usr/local/lib/python3.10/dist-packages/scikeras/wrappers.py:915: UserWarning: ``build_fn`` will be renamed to ``model`` in a future release, at which point use of ``build_fn`` will raise an Error instead.\n",
            "  X, y = self._initialize(X, y)\n",
            "/usr/local/lib/python3.10/dist-packages/scikeras/wrappers.py:915: UserWarning: ``build_fn`` will be renamed to ``model`` in a future release, at which point use of ``build_fn`` will raise an Error instead.\n",
            "  X, y = self._initialize(X, y)\n"
          ]
        },
        {
          "output_type": "stream",
          "name": "stdout",
          "text": [
            "Window size: 48 hours for predicting next 24 hours\n",
            "RMSE: 0.04105538741789005\n",
            "MAE: 0.02978139792087094\n",
            "MAPE: 45.72275912833938%\n",
            "R²: 0.7083007802949501\n"
          ]
        }
      ]
    },
    {
      "cell_type": "markdown",
      "source": [
        "## 128"
      ],
      "metadata": {
        "id": "QAtAxwvuYH4A"
      }
    },
    {
      "cell_type": "code",
      "source": [
        "# Set window size to 48 hours to predict the next 24 hours\n",
        "window_size = 48\n",
        "X, y = create_sequences(df_pm2_5, window_size)\n",
        "\n",
        "# Split the data into 80% training and 20% testing\n",
        "X_train, X_test, y_train, y_test = train_test_split(X, y, test_size=0.2, random_state=42)\n",
        "\n",
        "# Build LSTM model function\n",
        "def build_model(units=128, activation='tanh', learning_rate=0.001):\n",
        "    model = Sequential()\n",
        "    model.add(LSTM(units=units, activation=activation, return_sequences=True, input_shape=(window_size, len(features))))\n",
        "    model.add(LSTM(units=units, activation=activation))\n",
        "    model.add(Dense(24))  # Output layer to predict the next 24 hours\n",
        "    optimizer = Adam(learning_rate=learning_rate)\n",
        "    model.compile(optimizer=optimizer, loss='mean_squared_error')\n",
        "    return model\n",
        "\n",
        "# Initialize Keras Regressor\n",
        "model = KerasRegressor(build_fn=build_model, epochs=20, batch_size=32, verbose=0)\n",
        "\n",
        "# KFold for cross-validation on the training set\n",
        "kf = KFold(n_splits=5)\n",
        "\n",
        "for train_index, val_index in kf.split(X_train):\n",
        "    X_train_fold, X_val_fold = X_train[train_index], X_train[val_index]\n",
        "    y_train_fold, y_val_fold = y_train[train_index], y_train[val_index]\n",
        "\n",
        "    model.fit(X_train_fold, y_train_fold)\n",
        "\n",
        "# Train the model on the entire training set\n",
        "model.fit(X_train, y_train)\n",
        "\n",
        "# Evaluate the model on the test set\n",
        "test_predictions = model.predict(X_test)\n",
        "test_rmse = np.sqrt(mean_squared_error(y_test.flatten(), test_predictions.flatten()))\n",
        "test_mae = mean_absolute_error(y_test.flatten(), test_predictions.flatten())\n",
        "test_r2 = r2_score(y_test.flatten(), test_predictions.flatten())\n",
        "\n",
        "# Function to calculate MAPE while ignoring zero actual values\n",
        "def mean_absolute_percentage_error(y_true, y_pred):\n",
        "    y_true, y_pred = np.array(y_true), np.array(y_pred)\n",
        "    non_zero_indices = y_true != 0\n",
        "    y_true_non_zero = y_true[non_zero_indices]\n",
        "    y_pred_non_zero = y_pred[non_zero_indices]\n",
        "    mape = np.mean(np.abs((y_true_non_zero - y_pred_non_zero) / y_true_non_zero)) * 100\n",
        "    return mape\n",
        "\n",
        "test_mape = mean_absolute_percentage_error(y_test.flatten(), test_predictions.flatten())\n",
        "\n",
        "print(f'Window size: {window_size} hours for predicting next 24 hours')\n",
        "print(f'RMSE: {test_rmse}')\n",
        "print(f'MAE: {test_mae}')\n",
        "print(f'MAPE: {test_mape}%')\n",
        "print(f'R²: {test_r2}')"
      ],
      "metadata": {
        "colab": {
          "base_uri": "https://localhost:8080/"
        },
        "id": "yV5twNMJYJkp",
        "outputId": "b2b33222-f49e-4440-e3da-9defc687d777"
      },
      "execution_count": null,
      "outputs": [
        {
          "output_type": "stream",
          "name": "stderr",
          "text": [
            "/usr/local/lib/python3.10/dist-packages/scikeras/wrappers.py:915: UserWarning: ``build_fn`` will be renamed to ``model`` in a future release, at which point use of ``build_fn`` will raise an Error instead.\n",
            "  X, y = self._initialize(X, y)\n",
            "/usr/local/lib/python3.10/dist-packages/scikeras/wrappers.py:915: UserWarning: ``build_fn`` will be renamed to ``model`` in a future release, at which point use of ``build_fn`` will raise an Error instead.\n",
            "  X, y = self._initialize(X, y)\n",
            "/usr/local/lib/python3.10/dist-packages/scikeras/wrappers.py:915: UserWarning: ``build_fn`` will be renamed to ``model`` in a future release, at which point use of ``build_fn`` will raise an Error instead.\n",
            "  X, y = self._initialize(X, y)\n",
            "/usr/local/lib/python3.10/dist-packages/scikeras/wrappers.py:915: UserWarning: ``build_fn`` will be renamed to ``model`` in a future release, at which point use of ``build_fn`` will raise an Error instead.\n",
            "  X, y = self._initialize(X, y)\n",
            "/usr/local/lib/python3.10/dist-packages/scikeras/wrappers.py:915: UserWarning: ``build_fn`` will be renamed to ``model`` in a future release, at which point use of ``build_fn`` will raise an Error instead.\n",
            "  X, y = self._initialize(X, y)\n",
            "/usr/local/lib/python3.10/dist-packages/scikeras/wrappers.py:915: UserWarning: ``build_fn`` will be renamed to ``model`` in a future release, at which point use of ``build_fn`` will raise an Error instead.\n",
            "  X, y = self._initialize(X, y)\n"
          ]
        },
        {
          "output_type": "stream",
          "name": "stdout",
          "text": [
            "Window size: 48 hours for predicting next 24 hours\n",
            "RMSE: 0.034926060485633896\n",
            "MAE: 0.025845513606032478\n",
            "MAPE: 40.089832457393356%\n",
            "R²: 0.7888971183907252\n"
          ]
        }
      ]
    }
  ]
}